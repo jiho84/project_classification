{
 "cells": [
  {
   "cell_type": "markdown",
   "metadata": {},
   "source": [
    "# Kedro Project Explorer\n",
    "\n",
    "This notebook helps you explore the Kedro project structure, source code, and data files."
   ]
  },
  {
   "cell_type": "markdown",
   "metadata": {},
   "source": [
    "## 1. Setup and Import"
   ]
  },
  {
   "cell_type": "code",
   "execution_count": 1,
   "metadata": {},
   "outputs": [
    {
     "name": "stdout",
     "output_type": "stream",
     "text": [
      "Project path: /home/user/projects/kedro_project/account-tax\n"
     ]
    }
   ],
   "source": [
    "import os\n",
    "import sys\n",
    "from pathlib import Path\n",
    "import pandas as pd\n",
    "\n",
    "# Add project source to path\n",
    "project_path = Path.cwd().parent\n",
    "sys.path.append(str(project_path / 'src'))\n",
    "\n",
    "print(f\"Project path: {project_path}\")"
   ]
  },
  {
   "cell_type": "markdown",
   "metadata": {},
   "source": [
    "## 2. Explore Project Structure"
   ]
  },
  {
   "cell_type": "code",
   "execution_count": null,
   "metadata": {},
   "outputs": [],
   "source": [
    "# List main directories\n",
    "main_dirs = ['src', 'data', 'conf', 'notebooks', 'tests']\n",
    "\n",
    "print(\"Project Structure:\")\n",
    "print(\"=\"*50)\n",
    "for dir_name in main_dirs:\n",
    "    dir_path = project_path / dir_name\n",
    "    if dir_path.exists():\n",
    "        print(f\"\\n📁 {dir_name}/\")\n",
    "        # List first level of contents\n",
    "        for item in sorted(dir_path.iterdir())[:10]:  # Limit to first 10 items\n",
    "            if item.is_dir():\n",
    "                print(f\"   📂 {item.name}/\")\n",
    "            else:\n",
    "                print(f\"   📄 {item.name}\")"
   ]
  },
  {
   "cell_type": "markdown",
   "metadata": {},
   "source": [
    "## 3. Explore Source Code"
   ]
  },
  {
   "cell_type": "code",
   "execution_count": null,
   "metadata": {},
   "outputs": [],
   "source": [
    "# Explore src directory structure\n",
    "src_path = project_path / 'src'\n",
    "\n",
    "def explore_directory(path, prefix=\"\", max_depth=3, current_depth=0):\n",
    "    \"\"\"Recursively explore directory structure\"\"\"\n",
    "    if current_depth >= max_depth:\n",
    "        return\n",
    "    \n",
    "    items = sorted(path.iterdir())\n",
    "    for item in items:\n",
    "        if item.name.startswith('.'):\n",
    "            continue\n",
    "        if item.is_dir() and item.name != '__pycache__':\n",
    "            print(f\"{prefix}📂 {item.name}/\")\n",
    "            explore_directory(item, prefix + \"  \", max_depth, current_depth + 1)\n",
    "        elif item.suffix == '.py':\n",
    "            print(f\"{prefix}📄 {item.name}\")\n",
    "\n",
    "print(\"Source Code Structure:\")\n",
    "print(\"=\"*50)\n",
    "explore_directory(src_path)"
   ]
  },
  {
   "cell_type": "code",
   "execution_count": null,
   "metadata": {},
   "outputs": [],
   "source": [
    "# Count Python files and lines of code\n",
    "py_files = list(src_path.rglob('*.py'))\n",
    "total_lines = 0\n",
    "\n",
    "for py_file in py_files:\n",
    "    with open(py_file, 'r', encoding='utf-8', errors='ignore') as f:\n",
    "        total_lines += len(f.readlines())\n",
    "\n",
    "print(f\"Total Python files: {len(py_files)}\")\n",
    "print(f\"Total lines of code: {total_lines:,}\")"
   ]
  },
  {
   "cell_type": "markdown",
   "metadata": {},
   "source": [
    "## 4. Explore Data Directory"
   ]
  },
  {
   "cell_type": "code",
   "execution_count": null,
   "metadata": {},
   "outputs": [],
   "source": [
    "# Explore data directory\n",
    "data_path = project_path / 'data'\n",
    "\n",
    "print(\"Data Directory Structure:\")\n",
    "print(\"=\"*50)\n",
    "\n",
    "data_layers = ['01_raw', '02_intermediate', '03_primary', '04_feature', \n",
    "               '05_model_input', '06_models', '07_model_output', '08_reporting']\n",
    "\n",
    "for layer in data_layers:\n",
    "    layer_path = data_path / layer\n",
    "    if layer_path.exists():\n",
    "        files = list(layer_path.glob('*'))\n",
    "        print(f\"\\n📁 {layer}/ ({len(files)} files)\")\n",
    "        for file in sorted(files)[:5]:  # Show first 5 files\n",
    "            if file.is_file():\n",
    "                size = file.stat().st_size / 1024  # Size in KB\n",
    "                print(f\"   📄 {file.name} ({size:.1f} KB)\")"
   ]
  },
  {
   "cell_type": "code",
   "execution_count": null,
   "metadata": {},
   "outputs": [],
   "source": [
    "# List CSV and Parquet files in data directory\n",
    "csv_files = list(data_path.rglob('*.csv'))\n",
    "parquet_files = list(data_path.rglob('*.parquet'))\n",
    "\n",
    "print(f\"CSV files found: {len(csv_files)}\")\n",
    "print(f\"Parquet files found: {len(parquet_files)}\")\n",
    "\n",
    "if csv_files:\n",
    "    print(\"\\nCSV files:\")\n",
    "    for csv_file in csv_files[:5]:  # Show first 5\n",
    "        relative_path = csv_file.relative_to(data_path)\n",
    "        print(f\"  - {relative_path}\")\n",
    "\n",
    "if parquet_files:\n",
    "    print(\"\\nParquet files:\")\n",
    "    for parquet_file in parquet_files[:5]:  # Show first 5\n",
    "        relative_path = parquet_file.relative_to(data_path)\n",
    "        print(f\"  - {relative_path}\")"
   ]
  },
  {
   "cell_type": "markdown",
   "metadata": {},
   "source": [
    "## 5. Load and Preview Data Files"
   ]
  },
  {
   "cell_type": "code",
   "execution_count": null,
   "metadata": {},
   "outputs": [],
   "source": [
    "# Function to safely load and preview data\n",
    "def preview_data_file(file_path, n_rows=5):\n",
    "    \"\"\"Load and preview a data file\"\"\"\n",
    "    try:\n",
    "        if file_path.suffix == '.csv':\n",
    "            df = pd.read_csv(file_path, nrows=n_rows)\n",
    "        elif file_path.suffix == '.parquet':\n",
    "            df = pd.read_parquet(file_path).head(n_rows)\n",
    "        else:\n",
    "            print(f\"Unsupported file type: {file_path.suffix}\")\n",
    "            return None\n",
    "        \n",
    "        print(f\"\\nFile: {file_path.name}\")\n",
    "        print(f\"Shape: {df.shape}\")\n",
    "        print(f\"Columns: {list(df.columns)}\")\n",
    "        return df\n",
    "    except Exception as e:\n",
    "        print(f\"Error loading {file_path.name}: {e}\")\n",
    "        return None\n",
    "\n",
    "# Try to preview a data file\n",
    "if csv_files:\n",
    "    df = preview_data_file(csv_files[0])\n",
    "    if df is not None:\n",
    "        display(df.head())\n",
    "elif parquet_files:\n",
    "    df = preview_data_file(parquet_files[0])\n",
    "    if df is not None:\n",
    "        display(df.head())"
   ]
  },
  {
   "cell_type": "markdown",
   "metadata": {},
   "source": [
    "## 6. Kedro Context and Catalog"
   ]
  },
  {
   "cell_type": "code",
   "execution_count": null,
   "metadata": {},
   "outputs": [],
   "source": [
    "# Load Kedro context\n",
    "try:\n",
    "    from kedro.framework.session import KedroSession\n",
    "    from kedro.framework.startup import bootstrap_project\n",
    "    \n",
    "    # Bootstrap the project\n",
    "    bootstrap_project(project_path)\n",
    "    \n",
    "    # Create a session\n",
    "    with KedroSession.create(project_path=project_path) as session:\n",
    "        context = session.load_context()\n",
    "        catalog = context.catalog\n",
    "        \n",
    "        # List available datasets\n",
    "        datasets = list(catalog.list())\n",
    "        print(f\"Available datasets in catalog: {len(datasets)}\")\n",
    "        print(\"\\nFirst 10 datasets:\")\n",
    "        for dataset_name in sorted(datasets)[:10]:\n",
    "            print(f\"  - {dataset_name}\")\n",
    "            \n",
    "except Exception as e:\n",
    "    print(f\"Could not load Kedro context: {e}\")\n",
    "    print(\"Make sure you're running from the project directory\")"
   ]
  },
  {
   "cell_type": "markdown",
   "metadata": {},
   "source": [
    "## 7. Pipeline Information"
   ]
  },
  {
   "cell_type": "code",
   "execution_count": null,
   "metadata": {},
   "outputs": [],
   "source": [
    "# List available pipelines\n",
    "try:\n",
    "    from kedro.framework.session import KedroSession\n",
    "    \n",
    "    with KedroSession.create(project_path=project_path) as session:\n",
    "        context = session.load_context()\n",
    "        pipelines = context.pipelines\n",
    "        \n",
    "        print(f\"Available pipelines: {list(pipelines.keys())}\")\n",
    "        \n",
    "        # Show pipeline nodes\n",
    "        for pipeline_name, pipeline in pipelines.items():\n",
    "            print(f\"\\n{pipeline_name} pipeline:\")\n",
    "            print(f\"  Nodes: {len(pipeline.nodes)}\")\n",
    "            if pipeline.nodes:\n",
    "                print(\"  First 5 nodes:\")\n",
    "                for node in pipeline.nodes[:5]:\n",
    "                    print(f\"    - {node.name}\")\n",
    "                    \n",
    "except Exception as e:\n",
    "    print(f\"Could not load pipelines: {e}\")"
   ]
  },
  {
   "cell_type": "markdown",
   "metadata": {},
   "source": [
    "## 8. Configuration Files"
   ]
  },
  {
   "cell_type": "code",
   "execution_count": null,
   "metadata": {},
   "outputs": [],
   "source": [
    "# Explore configuration files\n",
    "conf_path = project_path / 'conf' / 'base'\n",
    "\n",
    "print(\"Configuration files:\")\n",
    "print(\"=\"*50)\n",
    "\n",
    "yaml_files = list(conf_path.glob('*.yml')) + list(conf_path.glob('*.yaml'))\n",
    "for yaml_file in sorted(yaml_files):\n",
    "    size = yaml_file.stat().st_size / 1024  # Size in KB\n",
    "    print(f\"📄 {yaml_file.name} ({size:.1f} KB)\")\n",
    "\n",
    "# Read parameters if available\n",
    "params_file = conf_path / 'parameters.yml'\n",
    "if params_file.exists():\n",
    "    import yaml\n",
    "    with open(params_file, 'r') as f:\n",
    "        params = yaml.safe_load(f)\n",
    "    print(f\"\\nParameters keys: {list(params.keys()) if params else 'None'}\")"
   ]
  },
  {
   "cell_type": "markdown",
   "metadata": {},
   "source": [
    "## 9. Quick Data Analysis Helper"
   ]
  },
  {
   "cell_type": "code",
   "execution_count": null,
   "metadata": {},
   "outputs": [],
   "source": [
    "# Helper function to analyze any data file\n",
    "def analyze_data_file(file_path):\n",
    "    \"\"\"Provide quick analysis of a data file\"\"\"\n",
    "    try:\n",
    "        print(f\"Analyzing: {file_path}\")\n",
    "        print(\"=\"*50)\n",
    "        \n",
    "        # Load data\n",
    "        if file_path.suffix == '.csv':\n",
    "            df = pd.read_csv(file_path)\n",
    "        elif file_path.suffix == '.parquet':\n",
    "            df = pd.read_parquet(file_path)\n",
    "        else:\n",
    "            print(f\"Unsupported file type: {file_path.suffix}\")\n",
    "            return\n",
    "        \n",
    "        # Basic info\n",
    "        print(f\"Shape: {df.shape}\")\n",
    "        print(f\"Memory usage: {df.memory_usage(deep=True).sum() / 1024**2:.2f} MB\")\n",
    "        print(f\"\\nColumn types:\")\n",
    "        print(df.dtypes.value_counts())\n",
    "        print(f\"\\nMissing values:\")\n",
    "        missing = df.isnull().sum()\n",
    "        if missing.any():\n",
    "            print(missing[missing > 0])\n",
    "        else:\n",
    "            print(\"No missing values\")\n",
    "        \n",
    "        # Show sample\n",
    "        print(f\"\\nFirst 3 rows:\")\n",
    "        display(df.head(3))\n",
    "        \n",
    "        # Numeric columns statistics\n",
    "        numeric_cols = df.select_dtypes(include=['int64', 'float64']).columns\n",
    "        if len(numeric_cols) > 0:\n",
    "            print(f\"\\nNumeric columns statistics:\")\n",
    "            display(df[numeric_cols].describe())\n",
    "            \n",
    "    except Exception as e:\n",
    "        print(f\"Error analyzing file: {e}\")\n",
    "\n",
    "# Example usage (uncomment and modify path):\n",
    "# analyze_data_file(project_path / 'data' / '01_raw' / 'your_file.csv')"
   ]
  },
  {
   "cell_type": "markdown",
   "metadata": {},
   "source": [
    "## 10. Your Work Space\n",
    "\n",
    "Use the cells below for your own exploration:"
   ]
  },
  {
   "cell_type": "code",
   "execution_count": 1,
   "metadata": {},
   "outputs": [
    {
     "data": {
      "text/html": [
       "<pre style=\"white-space:pre;overflow-x:auto;line-height:normal;font-family:Menlo,'DejaVu Sans Mono',consolas,'Courier New',monospace\"><span style=\"color: #7fbfbf; text-decoration-color: #7fbfbf\">[09/25/25 13:19:23] </span><span style=\"color: #000080; text-decoration-color: #000080\">INFO    </span> Using                                                                  <a href=\"file:///home/user/projects/kedro_project/.venv/lib/python3.12/site-packages/kedro/framework/project/__init__.py\" target=\"_blank\"><span style=\"color: #7f7f7f; text-decoration-color: #7f7f7f\">__init__.py</span></a><span style=\"color: #7f7f7f; text-decoration-color: #7f7f7f\">:</span><a href=\"file:///home/user/projects/kedro_project/.venv/lib/python3.12/site-packages/kedro/framework/project/__init__.py#270\" target=\"_blank\"><span style=\"color: #7f7f7f; text-decoration-color: #7f7f7f\">270</span></a>\n",
       "<span style=\"color: #7fbfbf; text-decoration-color: #7fbfbf\">                    </span>         <span style=\"color: #008000; text-decoration-color: #008000\">'/home/user/projects/kedro_project/.venv/lib/python3.12/site-packages/</span> <span style=\"color: #7f7f7f; text-decoration-color: #7f7f7f\">               </span>\n",
       "<span style=\"color: #7fbfbf; text-decoration-color: #7fbfbf\">                    </span>         <span style=\"color: #008000; text-decoration-color: #008000\">kedro/framework/project/rich_logging.yml'</span> as logging configuration.    <span style=\"color: #7f7f7f; text-decoration-color: #7f7f7f\">               </span>\n",
       "</pre>\n"
      ],
      "text/plain": [
       "\u001b[2;36m[09/25/25 13:19:23]\u001b[0m\u001b[2;36m \u001b[0m\u001b[34mINFO    \u001b[0m Using                                                                  \u001b]8;id=326210;file:///home/user/projects/kedro_project/.venv/lib/python3.12/site-packages/kedro/framework/project/__init__.py\u001b\\\u001b[2m__init__.py\u001b[0m\u001b]8;;\u001b\\\u001b[2m:\u001b[0m\u001b]8;id=913909;file:///home/user/projects/kedro_project/.venv/lib/python3.12/site-packages/kedro/framework/project/__init__.py#270\u001b\\\u001b[2m270\u001b[0m\u001b]8;;\u001b\\\n",
       "\u001b[2;36m                    \u001b[0m         \u001b[32m'/home/user/projects/kedro_project/.venv/lib/python3.12/site-packages/\u001b[0m \u001b[2m               \u001b[0m\n",
       "\u001b[2;36m                    \u001b[0m         \u001b[32mkedro/framework/project/rich_logging.yml'\u001b[0m as logging configuration.    \u001b[2m               \u001b[0m\n"
      ]
     },
     "metadata": {},
     "output_type": "display_data"
    }
   ],
   "source": [
    "from load_intermediate_outputs import (\n",
    "    get_catalog,\n",
    "    load_prepared_datasets,\n",
    "    load_text_datasets,\n",
    "    summarise_dataframe,\n",
    ")"
   ]
  },
  {
   "cell_type": "code",
   "execution_count": 2,
   "metadata": {},
   "outputs": [
    {
     "data": {
      "text/html": [
       "<pre style=\"white-space:pre;overflow-x:auto;line-height:normal;font-family:Menlo,'DejaVu Sans Mono',consolas,'Courier New',monospace\"><span style=\"color: #7fbfbf; text-decoration-color: #7fbfbf\">[09/25/25 13:19:50] </span><span style=\"color: #808000; text-decoration-color: #808000\">WARNING </span> <span style=\"color: #800080; text-decoration-color: #800080\">/home/user/projects/kedro_project/.venv/lib/python3.12/site-packages/m</span> <a href=\"file:///usr/lib/python3.12/warnings.py\" target=\"_blank\"><span style=\"color: #7f7f7f; text-decoration-color: #7f7f7f\">warnings.py</span></a><span style=\"color: #7f7f7f; text-decoration-color: #7f7f7f\">:</span><a href=\"file:///usr/lib/python3.12/warnings.py#112\" target=\"_blank\"><span style=\"color: #7f7f7f; text-decoration-color: #7f7f7f\">112</span></a>\n",
       "<span style=\"color: #7fbfbf; text-decoration-color: #7fbfbf\">                    </span>         <span style=\"color: #800080; text-decoration-color: #800080\">lflow/pyfunc/utils/</span><span style=\"color: #ff00ff; text-decoration-color: #ff00ff\">data_validation.py</span>:<span style=\"color: #008080; text-decoration-color: #008080; font-weight: bold\">186</span>: UserWarning: \u001b<span style=\"font-weight: bold\">[</span>33mAdd type   <span style=\"color: #7f7f7f; text-decoration-color: #7f7f7f\">               </span>\n",
       "<span style=\"color: #7fbfbf; text-decoration-color: #7fbfbf\">                    </span>         hints to the `predict` method to enable data validation and automatic  <span style=\"color: #7f7f7f; text-decoration-color: #7f7f7f\">               </span>\n",
       "<span style=\"color: #7fbfbf; text-decoration-color: #7fbfbf\">                    </span>         signature inference during model logging. Check                        <span style=\"color: #7f7f7f; text-decoration-color: #7f7f7f\">               </span>\n",
       "<span style=\"color: #7fbfbf; text-decoration-color: #7fbfbf\">                    </span>         <span style=\"color: #0000ff; text-decoration-color: #0000ff; text-decoration: underline\">https://mlflow.org/docs/latest/model/python_model.html#type-hint-usage</span> <span style=\"color: #7f7f7f; text-decoration-color: #7f7f7f\">               </span>\n",
       "<span style=\"color: #7fbfbf; text-decoration-color: #7fbfbf\">                    </span>         <span style=\"color: #0000ff; text-decoration-color: #0000ff; text-decoration: underline\">-in-pythonmodel</span> for more details.\u001b<span style=\"font-weight: bold\">[</span>0m                                   <span style=\"color: #7f7f7f; text-decoration-color: #7f7f7f\">               </span>\n",
       "<span style=\"color: #7fbfbf; text-decoration-color: #7fbfbf\">                    </span>           <span style=\"color: #800080; text-decoration-color: #800080; font-weight: bold\">color_warning</span><span style=\"font-weight: bold\">(</span>                                                       <span style=\"color: #7f7f7f; text-decoration-color: #7f7f7f\">               </span>\n",
       "<span style=\"color: #7fbfbf; text-decoration-color: #7fbfbf\">                    </span>                                                                                <span style=\"color: #7f7f7f; text-decoration-color: #7f7f7f\">               </span>\n",
       "</pre>\n"
      ],
      "text/plain": [
       "\u001b[2;36m[09/25/25 13:19:50]\u001b[0m\u001b[2;36m \u001b[0m\u001b[33mWARNING \u001b[0m \u001b[35m/home/user/projects/kedro_project/.venv/lib/python3.12/site-packages/m\u001b[0m \u001b]8;id=779944;file:///usr/lib/python3.12/warnings.py\u001b\\\u001b[2mwarnings.py\u001b[0m\u001b]8;;\u001b\\\u001b[2m:\u001b[0m\u001b]8;id=263962;file:///usr/lib/python3.12/warnings.py#112\u001b\\\u001b[2m112\u001b[0m\u001b]8;;\u001b\\\n",
       "\u001b[2;36m                    \u001b[0m         \u001b[35mlflow/pyfunc/utils/\u001b[0m\u001b[95mdata_validation.py\u001b[0m:\u001b[1;36m186\u001b[0m: UserWarning: \u001b\u001b[1m[\u001b[0m33mAdd type   \u001b[2m               \u001b[0m\n",
       "\u001b[2;36m                    \u001b[0m         hints to the `predict` method to enable data validation and automatic  \u001b[2m               \u001b[0m\n",
       "\u001b[2;36m                    \u001b[0m         signature inference during model logging. Check                        \u001b[2m               \u001b[0m\n",
       "\u001b[2;36m                    \u001b[0m         \u001b[4;94mhttps://mlflow.org/docs/latest/model/python_model.html#type-hint-usage\u001b[0m \u001b[2m               \u001b[0m\n",
       "\u001b[2;36m                    \u001b[0m         \u001b[4;94m-in-pythonmodel\u001b[0m for more details.\u001b\u001b[1m[\u001b[0m0m                                   \u001b[2m               \u001b[0m\n",
       "\u001b[2;36m                    \u001b[0m           \u001b[1;35mcolor_warning\u001b[0m\u001b[1m(\u001b[0m                                                       \u001b[2m               \u001b[0m\n",
       "\u001b[2;36m                    \u001b[0m                                                                                \u001b[2m               \u001b[0m\n"
      ]
     },
     "metadata": {},
     "output_type": "display_data"
    },
    {
     "data": {
      "text/html": [
       "<pre style=\"white-space:pre;overflow-x:auto;line-height:normal;font-family:Menlo,'DejaVu Sans Mono',consolas,'Courier New',monospace\"><span style=\"color: #7fbfbf; text-decoration-color: #7fbfbf\">                    </span><span style=\"color: #000080; text-decoration-color: #000080\">INFO    </span> Registering new custom resolver: <span style=\"color: #008000; text-decoration-color: #008000\">'km.random_name'</span>                    <a href=\"file:///home/user/projects/kedro_project/.venv/lib/python3.12/site-packages/kedro_mlflow/framework/hooks/mlflow_hook.py\" target=\"_blank\"><span style=\"color: #7f7f7f; text-decoration-color: #7f7f7f\">mlflow_hook.py</span></a><span style=\"color: #7f7f7f; text-decoration-color: #7f7f7f\">:</span><a href=\"file:///home/user/projects/kedro_project/.venv/lib/python3.12/site-packages/kedro_mlflow/framework/hooks/mlflow_hook.py#65\" target=\"_blank\"><span style=\"color: #7f7f7f; text-decoration-color: #7f7f7f\">65</span></a>\n",
       "</pre>\n"
      ],
      "text/plain": [
       "\u001b[2;36m                   \u001b[0m\u001b[2;36m \u001b[0m\u001b[34mINFO    \u001b[0m Registering new custom resolver: \u001b[32m'km.random_name'\u001b[0m                    \u001b]8;id=878254;file:///home/user/projects/kedro_project/.venv/lib/python3.12/site-packages/kedro_mlflow/framework/hooks/mlflow_hook.py\u001b\\\u001b[2mmlflow_hook.py\u001b[0m\u001b]8;;\u001b\\\u001b[2m:\u001b[0m\u001b]8;id=377946;file:///home/user/projects/kedro_project/.venv/lib/python3.12/site-packages/kedro_mlflow/framework/hooks/mlflow_hook.py#65\u001b\\\u001b[2m65\u001b[0m\u001b]8;;\u001b\\\n"
      ]
     },
     "metadata": {},
     "output_type": "display_data"
    },
    {
     "data": {
      "text/html": [
       "<pre style=\"white-space:pre;overflow-x:auto;line-height:normal;font-family:Menlo,'DejaVu Sans Mono',consolas,'Courier New',monospace\"><span style=\"color: #7fbfbf; text-decoration-color: #7fbfbf\">                    </span><span style=\"color: #000080; text-decoration-color: #000080\">INFO    </span> The <span style=\"color: #008000; text-decoration-color: #008000\">'tracking_uri'</span> key in mlflow.yml is relative            <a href=\"file:///home/user/projects/kedro_project/.venv/lib/python3.12/site-packages/kedro_mlflow/config/kedro_mlflow_config.py\" target=\"_blank\"><span style=\"color: #7f7f7f; text-decoration-color: #7f7f7f\">kedro_mlflow_config.py</span></a><span style=\"color: #7f7f7f; text-decoration-color: #7f7f7f\">:</span><a href=\"file:///home/user/projects/kedro_project/.venv/lib/python3.12/site-packages/kedro_mlflow/config/kedro_mlflow_config.py#293\" target=\"_blank\"><span style=\"color: #7f7f7f; text-decoration-color: #7f7f7f\">293</span></a>\n",
       "<span style=\"color: #7fbfbf; text-decoration-color: #7fbfbf\">                    </span>         <span style=\"font-weight: bold\">(</span><span style=\"color: #008000; text-decoration-color: #008000\">'server.mlflow_(tracking|registry)_uri = mlruns'</span><span style=\"font-weight: bold\">)</span>. It is   <span style=\"color: #7f7f7f; text-decoration-color: #7f7f7f\">                          </span>\n",
       "<span style=\"color: #7fbfbf; text-decoration-color: #7fbfbf\">                    </span>         converted to a valid uri:                                   <span style=\"color: #7f7f7f; text-decoration-color: #7f7f7f\">                          </span>\n",
       "<span style=\"color: #7fbfbf; text-decoration-color: #7fbfbf\">                    </span>         <span style=\"color: #008000; text-decoration-color: #008000\">'file:///home/user/projects/kedro_project/account-tax/mlrun</span> <span style=\"color: #7f7f7f; text-decoration-color: #7f7f7f\">                          </span>\n",
       "<span style=\"color: #7fbfbf; text-decoration-color: #7fbfbf\">                    </span>         <span style=\"color: #008000; text-decoration-color: #008000\">s'</span>                                                          <span style=\"color: #7f7f7f; text-decoration-color: #7f7f7f\">                          </span>\n",
       "</pre>\n"
      ],
      "text/plain": [
       "\u001b[2;36m                   \u001b[0m\u001b[2;36m \u001b[0m\u001b[34mINFO    \u001b[0m The \u001b[32m'tracking_uri'\u001b[0m key in mlflow.yml is relative            \u001b]8;id=113169;file:///home/user/projects/kedro_project/.venv/lib/python3.12/site-packages/kedro_mlflow/config/kedro_mlflow_config.py\u001b\\\u001b[2mkedro_mlflow_config.py\u001b[0m\u001b]8;;\u001b\\\u001b[2m:\u001b[0m\u001b]8;id=298689;file:///home/user/projects/kedro_project/.venv/lib/python3.12/site-packages/kedro_mlflow/config/kedro_mlflow_config.py#293\u001b\\\u001b[2m293\u001b[0m\u001b]8;;\u001b\\\n",
       "\u001b[2;36m                    \u001b[0m         \u001b[1m(\u001b[0m\u001b[32m'server.mlflow_\u001b[0m\u001b[32m(\u001b[0m\u001b[32mtracking|registry\u001b[0m\u001b[32m)\u001b[0m\u001b[32m_uri = mlruns'\u001b[0m\u001b[1m)\u001b[0m. It is   \u001b[2m                          \u001b[0m\n",
       "\u001b[2;36m                    \u001b[0m         converted to a valid uri:                                   \u001b[2m                          \u001b[0m\n",
       "\u001b[2;36m                    \u001b[0m         \u001b[32m'file:///home/user/projects/kedro_project/account-tax/mlrun\u001b[0m \u001b[2m                          \u001b[0m\n",
       "\u001b[2;36m                    \u001b[0m         \u001b[32ms'\u001b[0m                                                          \u001b[2m                          \u001b[0m\n"
      ]
     },
     "metadata": {},
     "output_type": "display_data"
    },
    {
     "data": {
      "text/html": [
       "<pre style=\"white-space:pre;overflow-x:auto;line-height:normal;font-family:Menlo,'DejaVu Sans Mono',consolas,'Courier New',monospace\"><span style=\"color: #7fbfbf; text-decoration-color: #7fbfbf\">                    </span><span style=\"color: #808000; text-decoration-color: #808000\">WARNING </span> <span style=\"color: #800080; text-decoration-color: #800080\">/home/user/projects/kedro_project/.venv/lib/python3.12/site-packages/t</span> <a href=\"file:///usr/lib/python3.12/warnings.py\" target=\"_blank\"><span style=\"color: #7f7f7f; text-decoration-color: #7f7f7f\">warnings.py</span></a><span style=\"color: #7f7f7f; text-decoration-color: #7f7f7f\">:</span><a href=\"file:///usr/lib/python3.12/warnings.py#112\" target=\"_blank\"><span style=\"color: #7f7f7f; text-decoration-color: #7f7f7f\">112</span></a>\n",
       "<span style=\"color: #7fbfbf; text-decoration-color: #7fbfbf\">                    </span>         <span style=\"color: #800080; text-decoration-color: #800080\">qdm/</span><span style=\"color: #ff00ff; text-decoration-color: #ff00ff\">auto.py</span>:<span style=\"color: #008080; text-decoration-color: #008080; font-weight: bold\">21</span>: TqdmWarning: IProgress not found. Please update        <span style=\"color: #7f7f7f; text-decoration-color: #7f7f7f\">               </span>\n",
       "<span style=\"color: #7fbfbf; text-decoration-color: #7fbfbf\">                    </span>         jupyter and ipywidgets. See                                            <span style=\"color: #7f7f7f; text-decoration-color: #7f7f7f\">               </span>\n",
       "<span style=\"color: #7fbfbf; text-decoration-color: #7fbfbf\">                    </span>         <span style=\"color: #0000ff; text-decoration-color: #0000ff; text-decoration: underline\">https://ipywidgets.readthedocs.io/en/stable/user_install.html</span>          <span style=\"color: #7f7f7f; text-decoration-color: #7f7f7f\">               </span>\n",
       "<span style=\"color: #7fbfbf; text-decoration-color: #7fbfbf\">                    </span>           from .autonotebook import tqdm as notebook_tqdm                      <span style=\"color: #7f7f7f; text-decoration-color: #7f7f7f\">               </span>\n",
       "<span style=\"color: #7fbfbf; text-decoration-color: #7fbfbf\">                    </span>                                                                                <span style=\"color: #7f7f7f; text-decoration-color: #7f7f7f\">               </span>\n",
       "</pre>\n"
      ],
      "text/plain": [
       "\u001b[2;36m                   \u001b[0m\u001b[2;36m \u001b[0m\u001b[33mWARNING \u001b[0m \u001b[35m/home/user/projects/kedro_project/.venv/lib/python3.12/site-packages/t\u001b[0m \u001b]8;id=117688;file:///usr/lib/python3.12/warnings.py\u001b\\\u001b[2mwarnings.py\u001b[0m\u001b]8;;\u001b\\\u001b[2m:\u001b[0m\u001b]8;id=551659;file:///usr/lib/python3.12/warnings.py#112\u001b\\\u001b[2m112\u001b[0m\u001b]8;;\u001b\\\n",
       "\u001b[2;36m                    \u001b[0m         \u001b[35mqdm/\u001b[0m\u001b[95mauto.py\u001b[0m:\u001b[1;36m21\u001b[0m: TqdmWarning: IProgress not found. Please update        \u001b[2m               \u001b[0m\n",
       "\u001b[2;36m                    \u001b[0m         jupyter and ipywidgets. See                                            \u001b[2m               \u001b[0m\n",
       "\u001b[2;36m                    \u001b[0m         \u001b[4;94mhttps://ipywidgets.readthedocs.io/en/stable/user_install.html\u001b[0m          \u001b[2m               \u001b[0m\n",
       "\u001b[2;36m                    \u001b[0m           from .autonotebook import tqdm as notebook_tqdm                      \u001b[2m               \u001b[0m\n",
       "\u001b[2;36m                    \u001b[0m                                                                                \u001b[2m               \u001b[0m\n"
      ]
     },
     "metadata": {},
     "output_type": "display_data"
    },
    {
     "name": "stderr",
     "output_type": "stream",
     "text": [
      "None of PyTorch, TensorFlow >= 2.0, or Flax have been found. Models won't be available and only tokenizers, configuration and file/data utilities can be used.\n"
     ]
    },
    {
     "data": {
      "text/html": [
       "<pre style=\"white-space:pre;overflow-x:auto;line-height:normal;font-family:Menlo,'DejaVu Sans Mono',consolas,'Courier New',monospace\"><span style=\"color: #7fbfbf; text-decoration-color: #7fbfbf\">[09/25/25 13:19:51] </span><span style=\"color: #000080; text-decoration-color: #000080\">INFO    </span> Kedro is sending anonymous usage data with the sole purpose of improving <a href=\"file:///home/user/projects/kedro_project/.venv/lib/python3.12/site-packages/kedro_telemetry/plugin.py\" target=\"_blank\"><span style=\"color: #7f7f7f; text-decoration-color: #7f7f7f\">plugin.py</span></a><span style=\"color: #7f7f7f; text-decoration-color: #7f7f7f\">:</span><a href=\"file:///home/user/projects/kedro_project/.venv/lib/python3.12/site-packages/kedro_telemetry/plugin.py#243\" target=\"_blank\"><span style=\"color: #7f7f7f; text-decoration-color: #7f7f7f\">243</span></a>\n",
       "<span style=\"color: #7fbfbf; text-decoration-color: #7fbfbf\">                    </span>         the product. No personal data or IP addresses are stored on our side. To <span style=\"color: #7f7f7f; text-decoration-color: #7f7f7f\">             </span>\n",
       "<span style=\"color: #7fbfbf; text-decoration-color: #7fbfbf\">                    </span>         opt out, set the `KEDRO_DISABLE_TELEMETRY` or `DO_NOT_TRACK` environment <span style=\"color: #7f7f7f; text-decoration-color: #7f7f7f\">             </span>\n",
       "<span style=\"color: #7fbfbf; text-decoration-color: #7fbfbf\">                    </span>         variables, or create a `.telemetry` file in the current working          <span style=\"color: #7f7f7f; text-decoration-color: #7f7f7f\">             </span>\n",
       "<span style=\"color: #7fbfbf; text-decoration-color: #7fbfbf\">                    </span>         directory with the contents `consent: false`. To hide this message,      <span style=\"color: #7f7f7f; text-decoration-color: #7f7f7f\">             </span>\n",
       "<span style=\"color: #7fbfbf; text-decoration-color: #7fbfbf\">                    </span>         explicitly grant or deny consent. Read more at                           <span style=\"color: #7f7f7f; text-decoration-color: #7f7f7f\">             </span>\n",
       "<span style=\"color: #7fbfbf; text-decoration-color: #7fbfbf\">                    </span>         <span style=\"color: #0000ff; text-decoration-color: #0000ff; text-decoration: underline\">https://docs.kedro.org/en/stable/configuration/telemetry.html</span>            <span style=\"color: #7f7f7f; text-decoration-color: #7f7f7f\">             </span>\n",
       "</pre>\n"
      ],
      "text/plain": [
       "\u001b[2;36m[09/25/25 13:19:51]\u001b[0m\u001b[2;36m \u001b[0m\u001b[34mINFO    \u001b[0m Kedro is sending anonymous usage data with the sole purpose of improving \u001b]8;id=675786;file:///home/user/projects/kedro_project/.venv/lib/python3.12/site-packages/kedro_telemetry/plugin.py\u001b\\\u001b[2mplugin.py\u001b[0m\u001b]8;;\u001b\\\u001b[2m:\u001b[0m\u001b]8;id=706038;file:///home/user/projects/kedro_project/.venv/lib/python3.12/site-packages/kedro_telemetry/plugin.py#243\u001b\\\u001b[2m243\u001b[0m\u001b]8;;\u001b\\\n",
       "\u001b[2;36m                    \u001b[0m         the product. No personal data or IP addresses are stored on our side. To \u001b[2m             \u001b[0m\n",
       "\u001b[2;36m                    \u001b[0m         opt out, set the `KEDRO_DISABLE_TELEMETRY` or `DO_NOT_TRACK` environment \u001b[2m             \u001b[0m\n",
       "\u001b[2;36m                    \u001b[0m         variables, or create a `.telemetry` file in the current working          \u001b[2m             \u001b[0m\n",
       "\u001b[2;36m                    \u001b[0m         directory with the contents `consent: false`. To hide this message,      \u001b[2m             \u001b[0m\n",
       "\u001b[2;36m                    \u001b[0m         explicitly grant or deny consent. Read more at                           \u001b[2m             \u001b[0m\n",
       "\u001b[2;36m                    \u001b[0m         \u001b[4;94mhttps://docs.kedro.org/en/stable/configuration/telemetry.html\u001b[0m            \u001b[2m             \u001b[0m\n"
      ]
     },
     "metadata": {},
     "output_type": "display_data"
    },
    {
     "data": {
      "text/html": [
       "<pre style=\"white-space:pre;overflow-x:auto;line-height:normal;font-family:Menlo,'DejaVu Sans Mono',consolas,'Courier New',monospace\"><span style=\"color: #7fbfbf; text-decoration-color: #7fbfbf\">[09/25/25 13:19:52] </span><span style=\"color: #000080; text-decoration-color: #000080\">INFO    </span> Loading data from <span style=\"color: #ff8700; text-decoration-color: #ff8700\">prepared_datasets_mlflow</span>                        <a href=\"file:///home/user/projects/kedro_project/.venv/lib/python3.12/site-packages/kedro/io/data_catalog.py\" target=\"_blank\"><span style=\"color: #7f7f7f; text-decoration-color: #7f7f7f\">data_catalog.py</span></a><span style=\"color: #7f7f7f; text-decoration-color: #7f7f7f\">:</span><a href=\"file:///home/user/projects/kedro_project/.venv/lib/python3.12/site-packages/kedro/io/data_catalog.py#1046\" target=\"_blank\"><span style=\"color: #7f7f7f; text-decoration-color: #7f7f7f\">1046</span></a>\n",
       "<span style=\"color: #7fbfbf; text-decoration-color: #7fbfbf\">                    </span>         <span style=\"font-weight: bold\">(</span>MlflowPartitionedParquetDataset<span style=\"font-weight: bold\">)</span><span style=\"color: #808000; text-decoration-color: #808000\">...</span>                              <span style=\"color: #7f7f7f; text-decoration-color: #7f7f7f\">                    </span>\n",
       "</pre>\n"
      ],
      "text/plain": [
       "\u001b[2;36m[09/25/25 13:19:52]\u001b[0m\u001b[2;36m \u001b[0m\u001b[34mINFO    \u001b[0m Loading data from \u001b[38;5;208mprepared_datasets_mlflow\u001b[0m                        \u001b]8;id=302602;file:///home/user/projects/kedro_project/.venv/lib/python3.12/site-packages/kedro/io/data_catalog.py\u001b\\\u001b[2mdata_catalog.py\u001b[0m\u001b]8;;\u001b\\\u001b[2m:\u001b[0m\u001b]8;id=419781;file:///home/user/projects/kedro_project/.venv/lib/python3.12/site-packages/kedro/io/data_catalog.py#1046\u001b\\\u001b[2m1046\u001b[0m\u001b]8;;\u001b\\\n",
       "\u001b[2;36m                    \u001b[0m         \u001b[1m(\u001b[0mMlflowPartitionedParquetDataset\u001b[1m)\u001b[0m\u001b[33m...\u001b[0m                              \u001b[2m                    \u001b[0m\n"
      ]
     },
     "metadata": {},
     "output_type": "display_data"
    },
    {
     "data": {
      "text/html": [
       "<pre style=\"white-space:pre;overflow-x:auto;line-height:normal;font-family:Menlo,'DejaVu Sans Mono',consolas,'Courier New',monospace\"><span style=\"color: #7fbfbf; text-decoration-color: #7fbfbf\">[09/25/25 13:19:53] </span><span style=\"color: #000080; text-decoration-color: #000080\">INFO    </span> Registering new custom resolver: <span style=\"color: #008000; text-decoration-color: #008000\">'km.random_name'</span>                    <a href=\"file:///home/user/projects/kedro_project/.venv/lib/python3.12/site-packages/kedro_mlflow/framework/hooks/mlflow_hook.py\" target=\"_blank\"><span style=\"color: #7f7f7f; text-decoration-color: #7f7f7f\">mlflow_hook.py</span></a><span style=\"color: #7f7f7f; text-decoration-color: #7f7f7f\">:</span><a href=\"file:///home/user/projects/kedro_project/.venv/lib/python3.12/site-packages/kedro_mlflow/framework/hooks/mlflow_hook.py#65\" target=\"_blank\"><span style=\"color: #7f7f7f; text-decoration-color: #7f7f7f\">65</span></a>\n",
       "</pre>\n"
      ],
      "text/plain": [
       "\u001b[2;36m[09/25/25 13:19:53]\u001b[0m\u001b[2;36m \u001b[0m\u001b[34mINFO    \u001b[0m Registering new custom resolver: \u001b[32m'km.random_name'\u001b[0m                    \u001b]8;id=419127;file:///home/user/projects/kedro_project/.venv/lib/python3.12/site-packages/kedro_mlflow/framework/hooks/mlflow_hook.py\u001b\\\u001b[2mmlflow_hook.py\u001b[0m\u001b]8;;\u001b\\\u001b[2m:\u001b[0m\u001b]8;id=498965;file:///home/user/projects/kedro_project/.venv/lib/python3.12/site-packages/kedro_mlflow/framework/hooks/mlflow_hook.py#65\u001b\\\u001b[2m65\u001b[0m\u001b]8;;\u001b\\\n"
      ]
     },
     "metadata": {},
     "output_type": "display_data"
    },
    {
     "data": {
      "text/html": [
       "<pre style=\"white-space:pre;overflow-x:auto;line-height:normal;font-family:Menlo,'DejaVu Sans Mono',consolas,'Courier New',monospace\"><span style=\"color: #7fbfbf; text-decoration-color: #7fbfbf\">                    </span><span style=\"color: #000080; text-decoration-color: #000080\">INFO    </span> The <span style=\"color: #008000; text-decoration-color: #008000\">'tracking_uri'</span> key in mlflow.yml is relative            <a href=\"file:///home/user/projects/kedro_project/.venv/lib/python3.12/site-packages/kedro_mlflow/config/kedro_mlflow_config.py\" target=\"_blank\"><span style=\"color: #7f7f7f; text-decoration-color: #7f7f7f\">kedro_mlflow_config.py</span></a><span style=\"color: #7f7f7f; text-decoration-color: #7f7f7f\">:</span><a href=\"file:///home/user/projects/kedro_project/.venv/lib/python3.12/site-packages/kedro_mlflow/config/kedro_mlflow_config.py#293\" target=\"_blank\"><span style=\"color: #7f7f7f; text-decoration-color: #7f7f7f\">293</span></a>\n",
       "<span style=\"color: #7fbfbf; text-decoration-color: #7fbfbf\">                    </span>         <span style=\"font-weight: bold\">(</span><span style=\"color: #008000; text-decoration-color: #008000\">'server.mlflow_(tracking|registry)_uri = mlruns'</span><span style=\"font-weight: bold\">)</span>. It is   <span style=\"color: #7f7f7f; text-decoration-color: #7f7f7f\">                          </span>\n",
       "<span style=\"color: #7fbfbf; text-decoration-color: #7fbfbf\">                    </span>         converted to a valid uri:                                   <span style=\"color: #7f7f7f; text-decoration-color: #7f7f7f\">                          </span>\n",
       "<span style=\"color: #7fbfbf; text-decoration-color: #7fbfbf\">                    </span>         <span style=\"color: #008000; text-decoration-color: #008000\">'file:///home/user/projects/kedro_project/account-tax/mlrun</span> <span style=\"color: #7f7f7f; text-decoration-color: #7f7f7f\">                          </span>\n",
       "<span style=\"color: #7fbfbf; text-decoration-color: #7fbfbf\">                    </span>         <span style=\"color: #008000; text-decoration-color: #008000\">s'</span>                                                          <span style=\"color: #7f7f7f; text-decoration-color: #7f7f7f\">                          </span>\n",
       "</pre>\n"
      ],
      "text/plain": [
       "\u001b[2;36m                   \u001b[0m\u001b[2;36m \u001b[0m\u001b[34mINFO    \u001b[0m The \u001b[32m'tracking_uri'\u001b[0m key in mlflow.yml is relative            \u001b]8;id=550129;file:///home/user/projects/kedro_project/.venv/lib/python3.12/site-packages/kedro_mlflow/config/kedro_mlflow_config.py\u001b\\\u001b[2mkedro_mlflow_config.py\u001b[0m\u001b]8;;\u001b\\\u001b[2m:\u001b[0m\u001b]8;id=298035;file:///home/user/projects/kedro_project/.venv/lib/python3.12/site-packages/kedro_mlflow/config/kedro_mlflow_config.py#293\u001b\\\u001b[2m293\u001b[0m\u001b]8;;\u001b\\\n",
       "\u001b[2;36m                    \u001b[0m         \u001b[1m(\u001b[0m\u001b[32m'server.mlflow_\u001b[0m\u001b[32m(\u001b[0m\u001b[32mtracking|registry\u001b[0m\u001b[32m)\u001b[0m\u001b[32m_uri = mlruns'\u001b[0m\u001b[1m)\u001b[0m. It is   \u001b[2m                          \u001b[0m\n",
       "\u001b[2;36m                    \u001b[0m         converted to a valid uri:                                   \u001b[2m                          \u001b[0m\n",
       "\u001b[2;36m                    \u001b[0m         \u001b[32m'file:///home/user/projects/kedro_project/account-tax/mlrun\u001b[0m \u001b[2m                          \u001b[0m\n",
       "\u001b[2;36m                    \u001b[0m         \u001b[32ms'\u001b[0m                                                          \u001b[2m                          \u001b[0m\n"
      ]
     },
     "metadata": {},
     "output_type": "display_data"
    },
    {
     "data": {
      "text/html": [
       "<pre style=\"white-space:pre;overflow-x:auto;line-height:normal;font-family:Menlo,'DejaVu Sans Mono',consolas,'Courier New',monospace\"><span style=\"color: #7fbfbf; text-decoration-color: #7fbfbf\">                    </span><span style=\"color: #000080; text-decoration-color: #000080\">INFO    </span> Kedro is sending anonymous usage data with the sole purpose of improving <a href=\"file:///home/user/projects/kedro_project/.venv/lib/python3.12/site-packages/kedro_telemetry/plugin.py\" target=\"_blank\"><span style=\"color: #7f7f7f; text-decoration-color: #7f7f7f\">plugin.py</span></a><span style=\"color: #7f7f7f; text-decoration-color: #7f7f7f\">:</span><a href=\"file:///home/user/projects/kedro_project/.venv/lib/python3.12/site-packages/kedro_telemetry/plugin.py#243\" target=\"_blank\"><span style=\"color: #7f7f7f; text-decoration-color: #7f7f7f\">243</span></a>\n",
       "<span style=\"color: #7fbfbf; text-decoration-color: #7fbfbf\">                    </span>         the product. No personal data or IP addresses are stored on our side. To <span style=\"color: #7f7f7f; text-decoration-color: #7f7f7f\">             </span>\n",
       "<span style=\"color: #7fbfbf; text-decoration-color: #7fbfbf\">                    </span>         opt out, set the `KEDRO_DISABLE_TELEMETRY` or `DO_NOT_TRACK` environment <span style=\"color: #7f7f7f; text-decoration-color: #7f7f7f\">             </span>\n",
       "<span style=\"color: #7fbfbf; text-decoration-color: #7fbfbf\">                    </span>         variables, or create a `.telemetry` file in the current working          <span style=\"color: #7f7f7f; text-decoration-color: #7f7f7f\">             </span>\n",
       "<span style=\"color: #7fbfbf; text-decoration-color: #7fbfbf\">                    </span>         directory with the contents `consent: false`. To hide this message,      <span style=\"color: #7f7f7f; text-decoration-color: #7f7f7f\">             </span>\n",
       "<span style=\"color: #7fbfbf; text-decoration-color: #7fbfbf\">                    </span>         explicitly grant or deny consent. Read more at                           <span style=\"color: #7f7f7f; text-decoration-color: #7f7f7f\">             </span>\n",
       "<span style=\"color: #7fbfbf; text-decoration-color: #7fbfbf\">                    </span>         <span style=\"color: #0000ff; text-decoration-color: #0000ff; text-decoration: underline\">https://docs.kedro.org/en/stable/configuration/telemetry.html</span>            <span style=\"color: #7f7f7f; text-decoration-color: #7f7f7f\">             </span>\n",
       "</pre>\n"
      ],
      "text/plain": [
       "\u001b[2;36m                   \u001b[0m\u001b[2;36m \u001b[0m\u001b[34mINFO    \u001b[0m Kedro is sending anonymous usage data with the sole purpose of improving \u001b]8;id=949453;file:///home/user/projects/kedro_project/.venv/lib/python3.12/site-packages/kedro_telemetry/plugin.py\u001b\\\u001b[2mplugin.py\u001b[0m\u001b]8;;\u001b\\\u001b[2m:\u001b[0m\u001b]8;id=630267;file:///home/user/projects/kedro_project/.venv/lib/python3.12/site-packages/kedro_telemetry/plugin.py#243\u001b\\\u001b[2m243\u001b[0m\u001b]8;;\u001b\\\n",
       "\u001b[2;36m                    \u001b[0m         the product. No personal data or IP addresses are stored on our side. To \u001b[2m             \u001b[0m\n",
       "\u001b[2;36m                    \u001b[0m         opt out, set the `KEDRO_DISABLE_TELEMETRY` or `DO_NOT_TRACK` environment \u001b[2m             \u001b[0m\n",
       "\u001b[2;36m                    \u001b[0m         variables, or create a `.telemetry` file in the current working          \u001b[2m             \u001b[0m\n",
       "\u001b[2;36m                    \u001b[0m         directory with the contents `consent: false`. To hide this message,      \u001b[2m             \u001b[0m\n",
       "\u001b[2;36m                    \u001b[0m         explicitly grant or deny consent. Read more at                           \u001b[2m             \u001b[0m\n",
       "\u001b[2;36m                    \u001b[0m         \u001b[4;94mhttps://docs.kedro.org/en/stable/configuration/telemetry.html\u001b[0m            \u001b[2m             \u001b[0m\n"
      ]
     },
     "metadata": {},
     "output_type": "display_data"
    },
    {
     "data": {
      "text/html": [
       "<pre style=\"white-space:pre;overflow-x:auto;line-height:normal;font-family:Menlo,'DejaVu Sans Mono',consolas,'Courier New',monospace\"><span style=\"color: #7fbfbf; text-decoration-color: #7fbfbf\">[09/25/25 13:19:54] </span><span style=\"color: #000080; text-decoration-color: #000080\">INFO    </span> Loading data from <span style=\"color: #ff8700; text-decoration-color: #ff8700\">text_datasets_mlflow</span>                            <a href=\"file:///home/user/projects/kedro_project/.venv/lib/python3.12/site-packages/kedro/io/data_catalog.py\" target=\"_blank\"><span style=\"color: #7f7f7f; text-decoration-color: #7f7f7f\">data_catalog.py</span></a><span style=\"color: #7f7f7f; text-decoration-color: #7f7f7f\">:</span><a href=\"file:///home/user/projects/kedro_project/.venv/lib/python3.12/site-packages/kedro/io/data_catalog.py#1046\" target=\"_blank\"><span style=\"color: #7f7f7f; text-decoration-color: #7f7f7f\">1046</span></a>\n",
       "<span style=\"color: #7fbfbf; text-decoration-color: #7fbfbf\">                    </span>         <span style=\"font-weight: bold\">(</span>MlflowPartitionedParquetDataset<span style=\"font-weight: bold\">)</span><span style=\"color: #808000; text-decoration-color: #808000\">...</span>                              <span style=\"color: #7f7f7f; text-decoration-color: #7f7f7f\">                    </span>\n",
       "</pre>\n"
      ],
      "text/plain": [
       "\u001b[2;36m[09/25/25 13:19:54]\u001b[0m\u001b[2;36m \u001b[0m\u001b[34mINFO    \u001b[0m Loading data from \u001b[38;5;208mtext_datasets_mlflow\u001b[0m                            \u001b]8;id=125200;file:///home/user/projects/kedro_project/.venv/lib/python3.12/site-packages/kedro/io/data_catalog.py\u001b\\\u001b[2mdata_catalog.py\u001b[0m\u001b]8;;\u001b\\\u001b[2m:\u001b[0m\u001b]8;id=982675;file:///home/user/projects/kedro_project/.venv/lib/python3.12/site-packages/kedro/io/data_catalog.py#1046\u001b\\\u001b[2m1046\u001b[0m\u001b]8;;\u001b\\\n",
       "\u001b[2;36m                    \u001b[0m         \u001b[1m(\u001b[0mMlflowPartitionedParquetDataset\u001b[1m)\u001b[0m\u001b[33m...\u001b[0m                              \u001b[2m                    \u001b[0m\n"
      ]
     },
     "metadata": {},
     "output_type": "display_data"
    }
   ],
   "source": [
    "prepared = load_prepared_datasets()  # returns {\"train\": DataFrame, \"valid\": ..., \"test\": ...}\n",
    "textual = load_text_datasets()"
   ]
  },
  {
   "cell_type": "code",
   "execution_count": 3,
   "metadata": {},
   "outputs": [
    {
     "data": {
      "text/html": [
       "<pre style=\"white-space:pre;overflow-x:auto;line-height:normal;font-family:Menlo,'DejaVu Sans Mono',consolas,'Courier New',monospace\"></pre>\n"
      ],
      "text/plain": []
     },
     "metadata": {},
     "output_type": "display_data"
    },
    {
     "data": {
      "text/html": [
       "<div>\n",
       "<style scoped>\n",
       "    .dataframe tbody tr th:only-of-type {\n",
       "        vertical-align: middle;\n",
       "    }\n",
       "\n",
       "    .dataframe tbody tr th {\n",
       "        vertical-align: top;\n",
       "    }\n",
       "\n",
       "    .dataframe thead th {\n",
       "        text-align: right;\n",
       "    }\n",
       "</style>\n",
       "<table border=\"1\" class=\"dataframe\">\n",
       "  <thead>\n",
       "    <tr style=\"text-align: right;\">\n",
       "      <th></th>\n",
       "      <th>date</th>\n",
       "      <th>vat_type</th>\n",
       "      <th>party_name</th>\n",
       "      <th>company_name</th>\n",
       "      <th>company_vat_id</th>\n",
       "      <th>item</th>\n",
       "      <th>supply_amount</th>\n",
       "      <th>vat_amount</th>\n",
       "      <th>total_amount</th>\n",
       "      <th>in_multi</th>\n",
       "      <th>...</th>\n",
       "      <th>business_item</th>\n",
       "      <th>vat_message_code</th>\n",
       "      <th>close_date</th>\n",
       "      <th>product</th>\n",
       "      <th>company_business_type</th>\n",
       "      <th>company_business_item</th>\n",
       "      <th>company_vat_message_code</th>\n",
       "      <th>acct_code</th>\n",
       "      <th>labels</th>\n",
       "      <th>split</th>\n",
       "    </tr>\n",
       "  </thead>\n",
       "  <tbody>\n",
       "    <tr>\n",
       "      <th>0</th>\n",
       "      <td>1970-01-01 00:00:00.020240131</td>\n",
       "      <td>51</td>\n",
       "      <td>지엠아이(GMI)</td>\n",
       "      <td>주식회사 코윈</td>\n",
       "      <td>4438102301</td>\n",
       "      <td>보호테이프 외</td>\n",
       "      <td>5121180</td>\n",
       "      <td>512118.0</td>\n",
       "      <td>5633298.0</td>\n",
       "      <td>0.0</td>\n",
       "      <td>...</td>\n",
       "      <td>전자상거래 소매업</td>\n",
       "      <td>standard</td>\n",
       "      <td>None</td>\n",
       "      <td>자동차부품,점착테이프</td>\n",
       "      <td>제조업</td>\n",
       "      <td>그 외 자동차용 신품 부품 제조업</td>\n",
       "      <td>standard</td>\n",
       "      <td>15300</td>\n",
       "      <td>1</td>\n",
       "      <td>train</td>\n",
       "    </tr>\n",
       "    <tr>\n",
       "      <th>1</th>\n",
       "      <td>1970-01-01 00:00:00.020230411</td>\n",
       "      <td>57</td>\n",
       "      <td>주식회사 씨엔씨식자재유통</td>\n",
       "      <td>소울푸드 주식회사</td>\n",
       "      <td>1878702515</td>\n",
       "      <td>None</td>\n",
       "      <td>21891</td>\n",
       "      <td>2189.0</td>\n",
       "      <td>24080.0</td>\n",
       "      <td>NaN</td>\n",
       "      <td>...</td>\n",
       "      <td>슈퍼마켓</td>\n",
       "      <td>standard</td>\n",
       "      <td>None</td>\n",
       "      <td>식잡</td>\n",
       "      <td>도매 및 소매업</td>\n",
       "      <td>기타 음ㆍ식료품 위주 종합 소매업</td>\n",
       "      <td>standard</td>\n",
       "      <td>14600</td>\n",
       "      <td>10</td>\n",
       "      <td>train</td>\n",
       "    </tr>\n",
       "    <tr>\n",
       "      <th>2</th>\n",
       "      <td>1970-01-01 00:00:00.020191004</td>\n",
       "      <td>57</td>\n",
       "      <td>한밭골 사골 순대＆정다운 다</td>\n",
       "      <td>유니슨방음방진(주)</td>\n",
       "      <td>3188107301</td>\n",
       "      <td>한밭골 사골 순대＆정다운 다락방</td>\n",
       "      <td>7273</td>\n",
       "      <td>727.0</td>\n",
       "      <td>8000.0</td>\n",
       "      <td>0.0</td>\n",
       "      <td>...</td>\n",
       "      <td>None</td>\n",
       "      <td>standard</td>\n",
       "      <td>20220428</td>\n",
       "      <td>None</td>\n",
       "      <td>제조업</td>\n",
       "      <td>산업용 그 외 비경화 고무제품 제조업</td>\n",
       "      <td>standard</td>\n",
       "      <td>81100</td>\n",
       "      <td>36</td>\n",
       "      <td>train</td>\n",
       "    </tr>\n",
       "    <tr>\n",
       "      <th>3</th>\n",
       "      <td>1970-01-01 00:00:00.020230731</td>\n",
       "      <td>51</td>\n",
       "      <td>네이버파이낸셜 주식회사</td>\n",
       "      <td>(주)팔도로지스</td>\n",
       "      <td>2338100176</td>\n",
       "      <td>네이버페이 수수료</td>\n",
       "      <td>284160</td>\n",
       "      <td>28416.0</td>\n",
       "      <td>312576.0</td>\n",
       "      <td>NaN</td>\n",
       "      <td>...</td>\n",
       "      <td>그 외 기타 금융 지원 서비스업</td>\n",
       "      <td>standard</td>\n",
       "      <td>None</td>\n",
       "      <td>온라인 정보 제공/전자지급결제대행</td>\n",
       "      <td>도매 및 소매업</td>\n",
       "      <td>빵류, 과자류, 당류, 초콜릿 도매업</td>\n",
       "      <td>standard</td>\n",
       "      <td>83100</td>\n",
       "      <td>24</td>\n",
       "      <td>train</td>\n",
       "    </tr>\n",
       "    <tr>\n",
       "      <th>4</th>\n",
       "      <td>1970-01-01 00:00:00.020241228</td>\n",
       "      <td>51</td>\n",
       "      <td>용달화물</td>\n",
       "      <td>주식회사 큐앤비푸드</td>\n",
       "      <td>2468801205</td>\n",
       "      <td>운송료</td>\n",
       "      <td>250000</td>\n",
       "      <td>25000.0</td>\n",
       "      <td>275000.0</td>\n",
       "      <td>0.0</td>\n",
       "      <td>...</td>\n",
       "      <td>None</td>\n",
       "      <td>standard</td>\n",
       "      <td>None</td>\n",
       "      <td>None</td>\n",
       "      <td>제조업</td>\n",
       "      <td>과자류 및 코코아 제품 제조업</td>\n",
       "      <td>standard</td>\n",
       "      <td>52400</td>\n",
       "      <td>64</td>\n",
       "      <td>train</td>\n",
       "    </tr>\n",
       "  </tbody>\n",
       "</table>\n",
       "<p>5 rows × 28 columns</p>\n",
       "</div>"
      ],
      "text/plain": [
       "\n",
       "                           date  vat_type       party_name company_name  \\\n",
       "\u001b[1;36m0\u001b[0m \u001b[1;36m1970\u001b[0m-\u001b[1;36m01\u001b[0m-\u001b[1;36m01\u001b[0m \u001b[1;92m00:00:00\u001b[0m.\u001b[1;36m020240131\u001b[0m        \u001b[1;36m51\u001b[0m        \u001b[1;35m지엠아이\u001b[0m\u001b[1m(\u001b[0mGMI\u001b[1m)\u001b[0m      주식회사 코윈   \n",
       "\u001b[1;36m1\u001b[0m \u001b[1;36m1970\u001b[0m-\u001b[1;36m01\u001b[0m-\u001b[1;36m01\u001b[0m \u001b[1;92m00:00:00\u001b[0m.\u001b[1;36m020230411\u001b[0m        \u001b[1;36m57\u001b[0m    주식회사 씨엔씨식자재유통    소울푸드 주식회사   \n",
       "\u001b[1;36m2\u001b[0m \u001b[1;36m1970\u001b[0m-\u001b[1;36m01\u001b[0m-\u001b[1;36m01\u001b[0m \u001b[1;92m00:00:00\u001b[0m.\u001b[1;36m020191004\u001b[0m        \u001b[1;36m57\u001b[0m  한밭골 사골 순대＆정다운 다   \u001b[1;35m유니슨방음방진\u001b[0m\u001b[1m(\u001b[0m주\u001b[1m)\u001b[0m   \n",
       "\u001b[1;36m3\u001b[0m \u001b[1;36m1970\u001b[0m-\u001b[1;36m01\u001b[0m-\u001b[1;36m01\u001b[0m \u001b[1;92m00:00:00\u001b[0m.\u001b[1;36m020230731\u001b[0m        \u001b[1;36m51\u001b[0m     네이버파이낸셜 주식회사     \u001b[1m(\u001b[0m주\u001b[1m)\u001b[0m팔도로지스   \n",
       "\u001b[1;36m4\u001b[0m \u001b[1;36m1970\u001b[0m-\u001b[1;36m01\u001b[0m-\u001b[1;36m01\u001b[0m \u001b[1;92m00:00:00\u001b[0m.\u001b[1;36m020241228\u001b[0m        \u001b[1;36m51\u001b[0m             용달화물   주식회사 큐앤비푸드   \n",
       "\n",
       "  company_vat_id               item  supply_amount  vat_amount  total_amount  \\\n",
       "\u001b[1;36m0\u001b[0m     \u001b[1;36m4438102301\u001b[0m            보호테이프 외        \u001b[1;36m5121180\u001b[0m    \u001b[1;36m512118.0\u001b[0m     \u001b[1;36m5633298.0\u001b[0m   \n",
       "\u001b[1;36m1\u001b[0m     \u001b[1;36m1878702515\u001b[0m               \u001b[3;35mNone\u001b[0m          \u001b[1;36m21891\u001b[0m      \u001b[1;36m2189.0\u001b[0m       \u001b[1;36m24080.0\u001b[0m   \n",
       "\u001b[1;36m2\u001b[0m     \u001b[1;36m3188107301\u001b[0m  한밭골 사골 순대＆정다운 다락방           \u001b[1;36m7273\u001b[0m       \u001b[1;36m727.0\u001b[0m        \u001b[1;36m8000.0\u001b[0m   \n",
       "\u001b[1;36m3\u001b[0m     \u001b[1;36m2338100176\u001b[0m          네이버페이 수수료         \u001b[1;36m284160\u001b[0m     \u001b[1;36m28416.0\u001b[0m      \u001b[1;36m312576.0\u001b[0m   \n",
       "\u001b[1;36m4\u001b[0m     \u001b[1;36m2468801205\u001b[0m                운송료         \u001b[1;36m250000\u001b[0m     \u001b[1;36m25000.0\u001b[0m      \u001b[1;36m275000.0\u001b[0m   \n",
       "\n",
       "   in_multi  \u001b[33m...\u001b[0m      business_item vat_message_code  close_date  \\\n",
       "\u001b[1;36m0\u001b[0m       \u001b[1;36m0.0\u001b[0m  \u001b[33m...\u001b[0m          전자상거래 소매업         standard        \u001b[3;35mNone\u001b[0m   \n",
       "\u001b[1;36m1\u001b[0m       NaN  \u001b[33m...\u001b[0m               슈퍼마켓         standard        \u001b[3;35mNone\u001b[0m   \n",
       "\u001b[1;36m2\u001b[0m       \u001b[1;36m0.0\u001b[0m  \u001b[33m...\u001b[0m               \u001b[3;35mNone\u001b[0m         standard    \u001b[1;36m20220428\u001b[0m   \n",
       "\u001b[1;36m3\u001b[0m       NaN  \u001b[33m...\u001b[0m  그 외 기타 금융 지원 서비스업         standard        \u001b[3;35mNone\u001b[0m   \n",
       "\u001b[1;36m4\u001b[0m       \u001b[1;36m0.0\u001b[0m  \u001b[33m...\u001b[0m               \u001b[3;35mNone\u001b[0m         standard        \u001b[3;35mNone\u001b[0m   \n",
       "\n",
       "              product company_business_type company_business_item  \\\n",
       "\u001b[1;36m0\u001b[0m         자동차부품,점착테이프                   제조업    그 외 자동차용 신품 부품 제조업   \n",
       "\u001b[1;36m1\u001b[0m                  식잡              도매 및 소매업    기타 음ㆍ식료품 위주 종합 소매업   \n",
       "\u001b[1;36m2\u001b[0m                \u001b[3;35mNone\u001b[0m                   제조업  산업용 그 외 비경화 고무제품 제조업   \n",
       "\u001b[1;36m3\u001b[0m  온라인 정보 제공/전자지급결제대행              도매 및 소매업  빵류, 과자류, 당류, 초콜릿 도매업   \n",
       "\u001b[1;36m4\u001b[0m                \u001b[3;35mNone\u001b[0m                   제조업      과자류 및 코코아 제품 제조업   \n",
       "\n",
       "   company_vat_message_code acct_code labels  split  \n",
       "\u001b[1;36m0\u001b[0m                  standard     \u001b[1;36m15300\u001b[0m      \u001b[1;36m1\u001b[0m  train  \n",
       "\u001b[1;36m1\u001b[0m                  standard     \u001b[1;36m14600\u001b[0m     \u001b[1;36m10\u001b[0m  train  \n",
       "\u001b[1;36m2\u001b[0m                  standard     \u001b[1;36m81100\u001b[0m     \u001b[1;36m36\u001b[0m  train  \n",
       "\u001b[1;36m3\u001b[0m                  standard     \u001b[1;36m83100\u001b[0m     \u001b[1;36m24\u001b[0m  train  \n",
       "\u001b[1;36m4\u001b[0m                  standard     \u001b[1;36m52400\u001b[0m     \u001b[1;36m64\u001b[0m  train  \n",
       "\n",
       "\u001b[1m[\u001b[0m\u001b[1;36m5\u001b[0m rows x \u001b[1;36m28\u001b[0m columns\u001b[1m]\u001b[0m"
      ]
     },
     "execution_count": 3,
     "metadata": {},
     "output_type": "execute_result"
    }
   ],
   "source": [
    "prepared[\"train\"].head()"
   ]
  },
  {
   "cell_type": "code",
   "execution_count": 4,
   "metadata": {},
   "outputs": [
    {
     "data": {
      "text/html": [
       "<pre style=\"white-space:pre;overflow-x:auto;line-height:normal;font-family:Menlo,'DejaVu Sans Mono',consolas,'Courier New',monospace\"><span style=\"color: #800000; text-decoration-color: #800000\">╭─────────────────────────────── </span><span style=\"color: #800000; text-decoration-color: #800000; font-weight: bold\">Traceback </span><span style=\"color: #bf7f7f; text-decoration-color: #bf7f7f; font-weight: bold\">(most recent call last)</span><span style=\"color: #800000; text-decoration-color: #800000\"> ────────────────────────────────╮</span>\n",
       "<span style=\"color: #800000; text-decoration-color: #800000\">│</span> in &lt;module&gt;:1                                                                                    <span style=\"color: #800000; text-decoration-color: #800000\">│</span>\n",
       "<span style=\"color: #800000; text-decoration-color: #800000\">│</span>                                                                                                  <span style=\"color: #800000; text-decoration-color: #800000\">│</span>\n",
       "<span style=\"color: #800000; text-decoration-color: #800000\">│</span> <span style=\"color: #800000; text-decoration-color: #800000\">❱ </span>1 <span style=\"font-weight: bold; text-decoration: underline\">prepared.decribe</span>                                                                             <span style=\"color: #800000; text-decoration-color: #800000\">│</span>\n",
       "<span style=\"color: #800000; text-decoration-color: #800000\">│</span>   <span style=\"color: #7f7f7f; text-decoration-color: #7f7f7f\">2 </span>                                                                                             <span style=\"color: #800000; text-decoration-color: #800000\">│</span>\n",
       "<span style=\"color: #800000; text-decoration-color: #800000\">╰──────────────────────────────────────────────────────────────────────────────────────────────────╯</span>\n",
       "<span style=\"color: #ff0000; text-decoration-color: #ff0000; font-weight: bold\">AttributeError: </span><span style=\"color: #008000; text-decoration-color: #008000\">'dict'</span> object has no attribute <span style=\"color: #008000; text-decoration-color: #008000\">'decribe'</span>\n",
       "</pre>\n"
      ],
      "text/plain": [
       "\u001b[31m╭─\u001b[0m\u001b[31m──────────────────────────────\u001b[0m\u001b[31m \u001b[0m\u001b[1;31mTraceback \u001b[0m\u001b[1;2;31m(most recent call last)\u001b[0m\u001b[31m \u001b[0m\u001b[31m───────────────────────────────\u001b[0m\u001b[31m─╮\u001b[0m\n",
       "\u001b[31m│\u001b[0m in <module>:1                                                                                    \u001b[31m│\u001b[0m\n",
       "\u001b[31m│\u001b[0m                                                                                                  \u001b[31m│\u001b[0m\n",
       "\u001b[31m│\u001b[0m \u001b[31m❱ \u001b[0m1 \u001b[1;4mprepared.decribe\u001b[0m                                                                             \u001b[31m│\u001b[0m\n",
       "\u001b[31m│\u001b[0m   \u001b[2m2 \u001b[0m                                                                                             \u001b[31m│\u001b[0m\n",
       "\u001b[31m╰──────────────────────────────────────────────────────────────────────────────────────────────────╯\u001b[0m\n",
       "\u001b[1;91mAttributeError: \u001b[0m\u001b[32m'dict'\u001b[0m object has no attribute \u001b[32m'decribe'\u001b[0m\n"
      ]
     },
     "metadata": {},
     "output_type": "display_data"
    }
   ],
   "source": [
    "prepared.decribe"
   ]
  },
  {
   "cell_type": "code",
   "execution_count": 5,
   "metadata": {},
   "outputs": [
    {
     "data": {
      "text/html": [
       "<pre style=\"white-space:pre;overflow-x:auto;line-height:normal;font-family:Menlo,'DejaVu Sans Mono',consolas,'Courier New',monospace\"><span style=\"color: #800000; text-decoration-color: #800000\">╭─────────────────────────────── </span><span style=\"color: #800000; text-decoration-color: #800000; font-weight: bold\">Traceback </span><span style=\"color: #bf7f7f; text-decoration-color: #bf7f7f; font-weight: bold\">(most recent call last)</span><span style=\"color: #800000; text-decoration-color: #800000\"> ────────────────────────────────╮</span>\n",
       "<span style=\"color: #800000; text-decoration-color: #800000\">│</span> in &lt;module&gt;:1                                                                                    <span style=\"color: #800000; text-decoration-color: #800000\">│</span>\n",
       "<span style=\"color: #800000; text-decoration-color: #800000\">│</span>                                                                                                  <span style=\"color: #800000; text-decoration-color: #800000\">│</span>\n",
       "<span style=\"color: #800000; text-decoration-color: #800000\">│</span> <span style=\"color: #800000; text-decoration-color: #800000\">❱ </span>1 <span style=\"font-weight: bold; text-decoration: underline\">prepared.describe</span>                                                                            <span style=\"color: #800000; text-decoration-color: #800000\">│</span>\n",
       "<span style=\"color: #800000; text-decoration-color: #800000\">│</span>   <span style=\"color: #7f7f7f; text-decoration-color: #7f7f7f\">2 </span>                                                                                             <span style=\"color: #800000; text-decoration-color: #800000\">│</span>\n",
       "<span style=\"color: #800000; text-decoration-color: #800000\">╰──────────────────────────────────────────────────────────────────────────────────────────────────╯</span>\n",
       "<span style=\"color: #ff0000; text-decoration-color: #ff0000; font-weight: bold\">AttributeError: </span><span style=\"color: #008000; text-decoration-color: #008000\">'dict'</span> object has no attribute <span style=\"color: #008000; text-decoration-color: #008000\">'describe'</span>\n",
       "</pre>\n"
      ],
      "text/plain": [
       "\u001b[31m╭─\u001b[0m\u001b[31m──────────────────────────────\u001b[0m\u001b[31m \u001b[0m\u001b[1;31mTraceback \u001b[0m\u001b[1;2;31m(most recent call last)\u001b[0m\u001b[31m \u001b[0m\u001b[31m───────────────────────────────\u001b[0m\u001b[31m─╮\u001b[0m\n",
       "\u001b[31m│\u001b[0m in <module>:1                                                                                    \u001b[31m│\u001b[0m\n",
       "\u001b[31m│\u001b[0m                                                                                                  \u001b[31m│\u001b[0m\n",
       "\u001b[31m│\u001b[0m \u001b[31m❱ \u001b[0m1 \u001b[1;4mprepared.describe\u001b[0m                                                                            \u001b[31m│\u001b[0m\n",
       "\u001b[31m│\u001b[0m   \u001b[2m2 \u001b[0m                                                                                             \u001b[31m│\u001b[0m\n",
       "\u001b[31m╰──────────────────────────────────────────────────────────────────────────────────────────────────╯\u001b[0m\n",
       "\u001b[1;91mAttributeError: \u001b[0m\u001b[32m'dict'\u001b[0m object has no attribute \u001b[32m'describe'\u001b[0m\n"
      ]
     },
     "metadata": {},
     "output_type": "display_data"
    }
   ],
   "source": [
    "prepared.describe"
   ]
  },
  {
   "cell_type": "code",
   "execution_count": 6,
   "metadata": {},
   "outputs": [
    {
     "data": {
      "text/html": [
       "<pre style=\"white-space:pre;overflow-x:auto;line-height:normal;font-family:Menlo,'DejaVu Sans Mono',consolas,'Courier New',monospace\"></pre>\n"
      ],
      "text/plain": []
     },
     "metadata": {},
     "output_type": "display_data"
    },
    {
     "data": {
      "text/plain": [
       "\u001b[1m<\u001b[0m\u001b[1;95mclass\u001b[0m\u001b[39m \u001b[0m\u001b[32m'dict'\u001b[0m\u001b[1m>\u001b[0m"
      ]
     },
     "execution_count": 6,
     "metadata": {},
     "output_type": "execute_result"
    }
   ],
   "source": [
    "type(prepared)"
   ]
  },
  {
   "cell_type": "code",
   "execution_count": 7,
   "metadata": {},
   "outputs": [
    {
     "data": {
      "text/html": [
       "<pre style=\"white-space:pre;overflow-x:auto;line-height:normal;font-family:Menlo,'DejaVu Sans Mono',consolas,'Courier New',monospace\"></pre>\n"
      ],
      "text/plain": []
     },
     "metadata": {},
     "output_type": "display_data"
    },
    {
     "data": {
      "text/plain": [
       "\n",
       "\u001b[1m{\u001b[0m\n",
       "    \u001b[32m'test'\u001b[0m:                                 date  vat_type   party_name     company_name  \\\n",
       "\u001b[1;36m0\u001b[0m      \u001b[1;36m1970\u001b[0m-\u001b[1;36m01\u001b[0m-\u001b[1;36m01\u001b[0m \u001b[1;92m00:00:00\u001b[0m.\u001b[1;36m020231030\u001b[0m        \u001b[1;36m57\u001b[0m         종합볼트          \u001b[1m(\u001b[0m주\u001b[1m)\u001b[0m퀀텀테크   \n",
       "\u001b[1;36m1\u001b[0m      \u001b[1;36m1970\u001b[0m-\u001b[1;36m01\u001b[0m-\u001b[1;36m01\u001b[0m \u001b[1;92m00:00:00\u001b[0m.\u001b[1;36m020230511\u001b[0m        \u001b[1;36m57\u001b[0m       서울명동찌개  \u001b[1;35m주식회사\u001b[0m\u001b[1m(\u001b[0mYG기초\u001b[1m)\u001b[0m와이지기초   \n",
       "\u001b[1;36m2\u001b[0m      \u001b[1;36m1970\u001b[0m-\u001b[1;36m01\u001b[0m-\u001b[1;36m01\u001b[0m \u001b[1;92m00:00:00\u001b[0m.\u001b[1;36m020230225\u001b[0m        \u001b[1;36m54\u001b[0m      \u001b[1;35m롯데렌탈\u001b[0m\u001b[1m(\u001b[0m주\u001b[1m)\u001b[0m        \u001b[1;35m메이저씨엔엠\u001b[0m\u001b[1m(\u001b[0m주\u001b[1m)\u001b[0m   \n",
       "\u001b[1;36m3\u001b[0m      \u001b[1;36m1970\u001b[0m-\u001b[1;36m01\u001b[0m-\u001b[1;36m01\u001b[0m \u001b[1;92m00:00:00\u001b[0m.\u001b[1;36m020231016\u001b[0m        \u001b[1;36m70\u001b[0m       우정사업본부        주식회사 꿈의날개   \n",
       "\u001b[1;36m4\u001b[0m      \u001b[1;36m1970\u001b[0m-\u001b[1;36m01\u001b[0m-\u001b[1;36m01\u001b[0m \u001b[1;92m00:00:00\u001b[0m.\u001b[1;36m020220601\u001b[0m        \u001b[1;36m51\u001b[0m       유병기부동산       주식회사 엔알시스템   \n",
       "\u001b[33m...\u001b[0m                              \u001b[33m...\u001b[0m       \u001b[33m...\u001b[0m          \u001b[33m...\u001b[0m              \u001b[33m...\u001b[0m   \n",
       "\u001b[1;36m330288\u001b[0m \u001b[1;36m1970\u001b[0m-\u001b[1;36m01\u001b[0m-\u001b[1;36m01\u001b[0m \u001b[1;92m00:00:00\u001b[0m.\u001b[1;36m020230430\u001b[0m        \u001b[1;36m11\u001b[0m  효산의료재단 지샘병원          주식회사 영광   \n",
       "\u001b[1;36m330289\u001b[0m \u001b[1;36m1970\u001b[0m-\u001b[1;36m01\u001b[0m-\u001b[1;36m01\u001b[0m \u001b[1;92m00:00:00\u001b[0m.\u001b[1;36m020220321\u001b[0m        \u001b[1;36m51\u001b[0m         개인용달      \u001b[1;35m화물나라종합물류\u001b[0m\u001b[1m(\u001b[0m주\u001b[1m)\u001b[0m   \n",
       "\u001b[1;36m330290\u001b[0m \u001b[1;36m1970\u001b[0m-\u001b[1;36m01\u001b[0m-\u001b[1;36m01\u001b[0m \u001b[1;92m00:00:00\u001b[0m.\u001b[1;36m020210222\u001b[0m        \u001b[1;36m11\u001b[0m       부뚜막손두부          주식회사 장원   \n",
       "\u001b[1;36m330291\u001b[0m \u001b[1;36m1970\u001b[0m-\u001b[1;36m01\u001b[0m-\u001b[1;36m01\u001b[0m \u001b[1;92m00:00:00\u001b[0m.\u001b[1;36m020210107\u001b[0m        \u001b[1;36m51\u001b[0m        대동천막사       \u001b[1m(\u001b[0m주\u001b[1m)\u001b[0m한성엔지니어링   \n",
       "\u001b[1;36m330292\u001b[0m \u001b[1;36m1970\u001b[0m-\u001b[1;36m01\u001b[0m-\u001b[1;36m01\u001b[0m \u001b[1;92m00:00:00\u001b[0m.\u001b[1;36m020240807\u001b[0m        \u001b[1;36m51\u001b[0m     주식회사 케이티        \u001b[1m(\u001b[0m주\u001b[1m)\u001b[0m유진콤프레샤   \n",
       "\n",
       "       company_vat_id                            item  supply_amount  \\\n",
       "\u001b[1;36m0\u001b[0m          \u001b[1;36m2028600478\u001b[0m                            \u001b[3;35mNone\u001b[0m           \u001b[1;36m3060\u001b[0m   \n",
       "\u001b[1;36m1\u001b[0m          \u001b[1;36m7688802801\u001b[0m                            직원식대          \u001b[1;36m76366\u001b[0m   \n",
       "\u001b[1;36m2\u001b[0m          \u001b[1;36m1448600357\u001b[0m  TORRES \u001b[1m(\u001b[0mG\u001b[1m)\u001b[0m \u001b[1;36m1.5\u001b[0m T5 2WD 193허9392         \u001b[1;36m348182\u001b[0m   \n",
       "\u001b[1;36m3\u001b[0m          \u001b[1;36m3128675107\u001b[0m                            \u001b[3;35mNone\u001b[0m           \u001b[1;36m5291\u001b[0m   \n",
       "\u001b[1;36m4\u001b[0m          \u001b[1;36m7158600988\u001b[0m                             임대료        \u001b[1;36m1200000\u001b[0m   \n",
       "\u001b[33m...\u001b[0m               \u001b[33m...\u001b[0m                             \u001b[33m...\u001b[0m            \u001b[33m...\u001b[0m   \n",
       "\u001b[1;36m330288\u001b[0m     \u001b[1;36m2128128366\u001b[0m                        \u001b[1;35m장의용품\u001b[0m\u001b[1m(\u001b[0m군포\u001b[1m)\u001b[0m        \u001b[1;36m4744091\u001b[0m   \n",
       "\u001b[1;36m330289\u001b[0m     \u001b[1;36m2758101451\u001b[0m           운송료 \u001b[1m(\u001b[0m오더번호: \u001b[1;36m236584132\u001b[0m\u001b[1m)\u001b[0m          \u001b[1;36m30000\u001b[0m   \n",
       "\u001b[1;36m330290\u001b[0m     \u001b[1;36m3128132710\u001b[0m                           유지보수비          \u001b[1;36m40000\u001b[0m   \n",
       "\u001b[1;36m330291\u001b[0m     \u001b[1;36m3128123884\u001b[0m                    \u001b[1m(\u001b[0m1t\u001b[1m)\u001b[0m아스테이지 커텐         \u001b[1;36m130000\u001b[0m   \n",
       "\u001b[1;36m330292\u001b[0m     \u001b[1;36m1138186360\u001b[0m             일반전화 \u001b[1m(\u001b[0m\u001b[1;36m004105477710\u001b[0m\u001b[1m)\u001b[0m           \u001b[1;36m5148\u001b[0m   \n",
       "\n",
       "        vat_amount  total_amount  in_multi  \u001b[33m...\u001b[0m  business_item  \\\n",
       "\u001b[1;36m0\u001b[0m            \u001b[1;36m306.0\u001b[0m        \u001b[1;36m3366.0\u001b[0m       NaN  \u001b[33m...\u001b[0m           \u001b[3;35mNone\u001b[0m   \n",
       "\u001b[1;36m1\u001b[0m           \u001b[1;36m7634.0\u001b[0m       \u001b[1;36m84000.0\u001b[0m       NaN  \u001b[33m...\u001b[0m     한식 일반 음식점업   \n",
       "\u001b[1;36m2\u001b[0m          \u001b[1;36m34818.0\u001b[0m      \u001b[1;36m383000.0\u001b[0m       \u001b[1;36m0.0\u001b[0m  \u001b[33m...\u001b[0m           \u001b[3;35mNone\u001b[0m   \n",
       "\u001b[1;36m3\u001b[0m            \u001b[1;36m529.0\u001b[0m        \u001b[1;36m5820.0\u001b[0m       NaN  \u001b[33m...\u001b[0m            택배업   \n",
       "\u001b[1;36m4\u001b[0m         \u001b[1;36m120000.0\u001b[0m     \u001b[1;36m1320000.0\u001b[0m       NaN  \u001b[33m...\u001b[0m           \u001b[3;35mNone\u001b[0m   \n",
       "\u001b[33m...\u001b[0m            \u001b[33m...\u001b[0m           \u001b[33m...\u001b[0m       \u001b[33m...\u001b[0m  \u001b[33m...\u001b[0m            \u001b[33m...\u001b[0m   \n",
       "\u001b[1;36m330288\u001b[0m    \u001b[1;36m474409.0\u001b[0m     \u001b[1;36m5218500.0\u001b[0m       \u001b[1;36m0.0\u001b[0m  \u001b[33m...\u001b[0m           종합병원   \n",
       "\u001b[1;36m330289\u001b[0m      \u001b[1;36m3000.0\u001b[0m       \u001b[1;36m33000.0\u001b[0m       \u001b[1;36m0.0\u001b[0m  \u001b[33m...\u001b[0m           \u001b[3;35mNone\u001b[0m   \n",
       "\u001b[1;36m330290\u001b[0m      \u001b[1;36m4000.0\u001b[0m       \u001b[1;36m44000.0\u001b[0m       \u001b[1;36m0.0\u001b[0m  \u001b[33m...\u001b[0m     한식 일반 음식점업   \n",
       "\u001b[1;36m330291\u001b[0m     \u001b[1;36m13000.0\u001b[0m      \u001b[1;36m143000.0\u001b[0m       NaN  \u001b[33m...\u001b[0m           \u001b[3;35mNone\u001b[0m   \n",
       "\u001b[1;36m330292\u001b[0m       \u001b[1;36m514.0\u001b[0m        \u001b[1;36m5662.0\u001b[0m       \u001b[1;36m0.0\u001b[0m  \u001b[33m...\u001b[0m    무선 및 위성 통신업   \n",
       "\n",
       "       vat_message_code  close_date       product company_business_type  \\\n",
       "\u001b[1;36m0\u001b[0m              standard        \u001b[3;35mNone\u001b[0m          \u001b[3;35mNone\u001b[0m                   제조업   \n",
       "\u001b[1;36m1\u001b[0m              standard        \u001b[3;35mNone\u001b[0m          \u001b[3;35mNone\u001b[0m                 건 설 업   \n",
       "\u001b[1;36m2\u001b[0m              standard        \u001b[3;35mNone\u001b[0m  전기 판매/정보통신기기                   제조업   \n",
       "\u001b[1;36m3\u001b[0m              standard        \u001b[3;35mNone\u001b[0m    우편사업, 금융사업      전문, 과학 및 기술 서비스업   \n",
       "\u001b[1;36m4\u001b[0m              standard        \u001b[3;35mNone\u001b[0m          \u001b[3;35mNone\u001b[0m                   제조업   \n",
       "\u001b[33m...\u001b[0m                 \u001b[33m...\u001b[0m         \u001b[33m...\u001b[0m           \u001b[33m...\u001b[0m                   \u001b[33m...\u001b[0m   \n",
       "\u001b[1;36m330288\u001b[0m         standard        \u001b[3;35mNone\u001b[0m          \u001b[3;35mNone\u001b[0m                   제조업   \n",
       "\u001b[1;36m330289\u001b[0m         standard        \u001b[3;35mNone\u001b[0m          \u001b[3;35mNone\u001b[0m              운수 및 창고업   \n",
       "\u001b[1;36m330290\u001b[0m         standard        \u001b[3;35mNone\u001b[0m          \u001b[3;35mNone\u001b[0m              도매 및 소매업   \n",
       "\u001b[1;36m330291\u001b[0m         standard        \u001b[3;35mNone\u001b[0m          \u001b[3;35mNone\u001b[0m                   제조업   \n",
       "\u001b[1;36m330292\u001b[0m         standard        \u001b[3;35mNone\u001b[0m   인터넷/유무선통신사업                   제조업   \n",
       "\n",
       "       company_business_item  company_vat_message_code acct_code labels split  \n",
       "\u001b[1;36m0\u001b[0m              기타 반도체 소자 제조업                  standard     \u001b[1;36m53000\u001b[0m     \u001b[1;36m26\u001b[0m  test  \n",
       "\u001b[1;36m1\u001b[0m         파일공사 및 축조관련 기초 공사업                  standard     \u001b[1;36m61100\u001b[0m    \u001b[1;36m110\u001b[0m  test  \n",
       "\u001b[1;36m2\u001b[0m              기타 반도체 소자 제조업                  standard     \u001b[1;36m81900\u001b[0m     \u001b[1;36m53\u001b[0m  test  \n",
       "\u001b[1;36m3\u001b[0m          그 외 기타 광고 관련 서비스업                  standard     \u001b[1;36m81400\u001b[0m     \u001b[1;36m97\u001b[0m  test  \n",
       "\u001b[1;36m4\u001b[0m              기타 반도체 소자 제조업                  standard     \u001b[1;36m81900\u001b[0m     \u001b[1;36m53\u001b[0m  test  \n",
       "\u001b[33m...\u001b[0m                      \u001b[33m...\u001b[0m                       \u001b[33m...\u001b[0m       \u001b[33m...\u001b[0m    \u001b[33m...\u001b[0m   \u001b[33m...\u001b[0m  \n",
       "\u001b[1;36m330288\u001b[0m           장식용 목제품 제조업                  standard     \u001b[1;36m40400\u001b[0m      \u001b[1;36m3\u001b[0m  test  \n",
       "\u001b[1;36m330289\u001b[0m        통관 대리 및 관련서비스업                  standard     \u001b[1;36m82400\u001b[0m     \u001b[1;36m62\u001b[0m  test  \n",
       "\u001b[1;36m330290\u001b[0m      통신ㆍ방송장비 및 부품 도매업                  standard     \u001b[1;36m42300\u001b[0m     \u001b[1;36m68\u001b[0m  test  \n",
       "\u001b[1;36m330291\u001b[0m       농업 및 임업용 기계 제조업                  standard     \u001b[1;36m15300\u001b[0m      \u001b[1;36m1\u001b[0m  test  \n",
       "\u001b[1;36m330292\u001b[0m             유압 기기 제조업                  standard     \u001b[1;36m81400\u001b[0m     \u001b[1;36m97\u001b[0m  test  \n",
       "\n",
       "\u001b[1m[\u001b[0m\u001b[1;36m330293\u001b[0m rows x \u001b[1;36m28\u001b[0m columns\u001b[1m]\u001b[0m,\n",
       "    \u001b[32m'train'\u001b[0m:                                  date  vat_type       party_name company_name  \\\n",
       "\u001b[1;36m0\u001b[0m       \u001b[1;36m1970\u001b[0m-\u001b[1;36m01\u001b[0m-\u001b[1;36m01\u001b[0m \u001b[1;92m00:00:00\u001b[0m.\u001b[1;36m020240131\u001b[0m        \u001b[1;36m51\u001b[0m        \u001b[1;35m지엠아이\u001b[0m\u001b[1m(\u001b[0mGMI\u001b[1m)\u001b[0m      주식회사 코윈   \n",
       "\u001b[1;36m1\u001b[0m       \u001b[1;36m1970\u001b[0m-\u001b[1;36m01\u001b[0m-\u001b[1;36m01\u001b[0m \u001b[1;92m00:00:00\u001b[0m.\u001b[1;36m020230411\u001b[0m        \u001b[1;36m57\u001b[0m    주식회사 씨엔씨식자재유통    소울푸드 주식회사   \n",
       "\u001b[1;36m2\u001b[0m       \u001b[1;36m1970\u001b[0m-\u001b[1;36m01\u001b[0m-\u001b[1;36m01\u001b[0m \u001b[1;92m00:00:00\u001b[0m.\u001b[1;36m020191004\u001b[0m        \u001b[1;36m57\u001b[0m  한밭골 사골 순대＆정다운 다   \u001b[1;35m유니슨방음방진\u001b[0m\u001b[1m(\u001b[0m주\u001b[1m)\u001b[0m   \n",
       "\u001b[1;36m3\u001b[0m       \u001b[1;36m1970\u001b[0m-\u001b[1;36m01\u001b[0m-\u001b[1;36m01\u001b[0m \u001b[1;92m00:00:00\u001b[0m.\u001b[1;36m020230731\u001b[0m        \u001b[1;36m51\u001b[0m     네이버파이낸셜 주식회사     \u001b[1m(\u001b[0m주\u001b[1m)\u001b[0m팔도로지스   \n",
       "\u001b[1;36m4\u001b[0m       \u001b[1;36m1970\u001b[0m-\u001b[1;36m01\u001b[0m-\u001b[1;36m01\u001b[0m \u001b[1;92m00:00:00\u001b[0m.\u001b[1;36m020241228\u001b[0m        \u001b[1;36m51\u001b[0m             용달화물   주식회사 큐앤비푸드   \n",
       "\u001b[33m...\u001b[0m                               \u001b[33m...\u001b[0m       \u001b[33m...\u001b[0m              \u001b[33m...\u001b[0m          \u001b[33m...\u001b[0m   \n",
       "\u001b[1;36m2642338\u001b[0m \u001b[1;36m1970\u001b[0m-\u001b[1;36m01\u001b[0m-\u001b[1;36m01\u001b[0m \u001b[1;92m00:00:00\u001b[0m.\u001b[1;36m020240222\u001b[0m        \u001b[1;36m57\u001b[0m      주식회사 동양종합상사    주식회사 백신산업   \n",
       "\u001b[1;36m2642339\u001b[0m \u001b[1;36m1970\u001b[0m-\u001b[1;36m01\u001b[0m-\u001b[1;36m01\u001b[0m \u001b[1;92m00:00:00\u001b[0m.\u001b[1;36m020210227\u001b[0m        \u001b[1;36m51\u001b[0m            운정지게차   주식회사 신영이엔지   \n",
       "\u001b[1;36m2642340\u001b[0m \u001b[1;36m1970\u001b[0m-\u001b[1;36m01\u001b[0m-\u001b[1;36m01\u001b[0m \u001b[1;92m00:00:00\u001b[0m.\u001b[1;36m020220620\u001b[0m        \u001b[1;36m61\u001b[0m    \u001b[1;35m주식회사와이피코리아\u001b[0m\u001b[1m(\u001b[0mYP     \u001b[1m(\u001b[0m주\u001b[1m)\u001b[0m센트로닉스   \n",
       "\u001b[1;36m2642341\u001b[0m \u001b[1;36m1970\u001b[0m-\u001b[1;36m01\u001b[0m-\u001b[1;36m01\u001b[0m \u001b[1;92m00:00:00\u001b[0m.\u001b[1;36m020230331\u001b[0m        \u001b[1;36m51\u001b[0m  \u001b[1;35m중도가스\u001b[0m\u001b[1m(\u001b[0m주\u001b[1m)\u001b[0m　　　천안영업소   주식회사 우방에너지   \n",
       "\u001b[1;36m2642342\u001b[0m \u001b[1;36m1970\u001b[0m-\u001b[1;36m01\u001b[0m-\u001b[1;36m01\u001b[0m \u001b[1;92m00:00:00\u001b[0m.\u001b[1;36m020211130\u001b[0m        \u001b[1;36m51\u001b[0m       주식회사 토부리식품   멘야마쯔리 주식회사   \n",
       "\n",
       "        company_vat_id               item  supply_amount  vat_amount  \\\n",
       "\u001b[1;36m0\u001b[0m           \u001b[1;36m4438102301\u001b[0m            보호테이프 외        \u001b[1;36m5121180\u001b[0m    \u001b[1;36m512118.0\u001b[0m   \n",
       "\u001b[1;36m1\u001b[0m           \u001b[1;36m1878702515\u001b[0m               \u001b[3;35mNone\u001b[0m          \u001b[1;36m21891\u001b[0m      \u001b[1;36m2189.0\u001b[0m   \n",
       "\u001b[1;36m2\u001b[0m           \u001b[1;36m3188107301\u001b[0m  한밭골 사골 순대＆정다운 다락방           \u001b[1;36m7273\u001b[0m       \u001b[1;36m727.0\u001b[0m   \n",
       "\u001b[1;36m3\u001b[0m           \u001b[1;36m2338100176\u001b[0m          네이버페이 수수료         \u001b[1;36m284160\u001b[0m     \u001b[1;36m28416.0\u001b[0m   \n",
       "\u001b[1;36m4\u001b[0m           \u001b[1;36m2468801205\u001b[0m                운송료         \u001b[1;36m250000\u001b[0m     \u001b[1;36m25000.0\u001b[0m   \n",
       "\u001b[33m...\u001b[0m                \u001b[33m...\u001b[0m                \u001b[33m...\u001b[0m            \u001b[33m...\u001b[0m         \u001b[33m...\u001b[0m   \n",
       "\u001b[1;36m2642338\u001b[0m     \u001b[1;36m3118142952\u001b[0m               \u001b[3;35mNone\u001b[0m         \u001b[1;36m108000\u001b[0m     \u001b[1;36m10800.0\u001b[0m   \n",
       "\u001b[1;36m2642339\u001b[0m     \u001b[1;36m7018701874\u001b[0m                운반비          \u001b[1;36m60000\u001b[0m      \u001b[1;36m6000.0\u001b[0m   \n",
       "\u001b[1;36m2642340\u001b[0m     \u001b[1;36m3128139483\u001b[0m               \u001b[3;35mNone\u001b[0m           \u001b[1;36m3982\u001b[0m       \u001b[1;36m398.0\u001b[0m   \n",
       "\u001b[1;36m2642341\u001b[0m     \u001b[1;36m4968100326\u001b[0m                프로판       \u001b[1;36m22387320\u001b[0m   \u001b[1;36m2238733.0\u001b[0m   \n",
       "\u001b[1;36m2642342\u001b[0m     \u001b[1;36m5168701029\u001b[0m               라멘육수       \u001b[1;36m37227272\u001b[0m   \u001b[1;36m3722728.0\u001b[0m   \n",
       "\n",
       "         total_amount  in_multi  \u001b[33m...\u001b[0m         business_item vat_message_code  \\\n",
       "\u001b[1;36m0\u001b[0m           \u001b[1;36m5633298.0\u001b[0m       \u001b[1;36m0.0\u001b[0m  \u001b[33m...\u001b[0m             전자상거래 소매업         standard   \n",
       "\u001b[1;36m1\u001b[0m             \u001b[1;36m24080.0\u001b[0m       NaN  \u001b[33m...\u001b[0m                  슈퍼마켓         standard   \n",
       "\u001b[1;36m2\u001b[0m              \u001b[1;36m8000.0\u001b[0m       \u001b[1;36m0.0\u001b[0m  \u001b[33m...\u001b[0m                  \u001b[3;35mNone\u001b[0m         standard   \n",
       "\u001b[1;36m3\u001b[0m            \u001b[1;36m312576.0\u001b[0m       NaN  \u001b[33m...\u001b[0m     그 외 기타 금융 지원 서비스업         standard   \n",
       "\u001b[1;36m4\u001b[0m            \u001b[1;36m275000.0\u001b[0m       \u001b[1;36m0.0\u001b[0m  \u001b[33m...\u001b[0m                  \u001b[3;35mNone\u001b[0m         standard   \n",
       "\u001b[33m...\u001b[0m               \u001b[33m...\u001b[0m       \u001b[33m...\u001b[0m  \u001b[33m...\u001b[0m                   \u001b[33m...\u001b[0m              \u001b[33m...\u001b[0m   \n",
       "\u001b[1;36m2642338\u001b[0m      \u001b[1;36m118800.0\u001b[0m       NaN  \u001b[33m...\u001b[0m  철물, 금속 파스너 및 수공구 도매업         standard   \n",
       "\u001b[1;36m2642339\u001b[0m       \u001b[1;36m66000.0\u001b[0m       NaN  \u001b[33m...\u001b[0m                  \u001b[3;35mNone\u001b[0m         standard   \n",
       "\u001b[1;36m2642340\u001b[0m        \u001b[1;36m4380.0\u001b[0m       \u001b[1;36m0.0\u001b[0m  \u001b[33m...\u001b[0m             전자상거래 소매업         standard   \n",
       "\u001b[1;36m2642341\u001b[0m    \u001b[1;36m24626053.0\u001b[0m       NaN  \u001b[33m...\u001b[0m      기체 연료 및 관련제품 도매업         standard   \n",
       "\u001b[1;36m2642342\u001b[0m    \u001b[1;36m40950000.0\u001b[0m       \u001b[1;36m0.0\u001b[0m  \u001b[33m...\u001b[0m             전자상거래 소매업         standard   \n",
       "\n",
       "         close_date             product company_business_type  \\\n",
       "\u001b[1;36m0\u001b[0m              \u001b[3;35mNone\u001b[0m         자동차부품,점착테이프                   제조업   \n",
       "\u001b[1;36m1\u001b[0m              \u001b[3;35mNone\u001b[0m                  식잡              도매 및 소매업   \n",
       "\u001b[1;36m2\u001b[0m          \u001b[1;36m20220428\u001b[0m                \u001b[3;35mNone\u001b[0m                   제조업   \n",
       "\u001b[1;36m3\u001b[0m              \u001b[3;35mNone\u001b[0m  온라인 정보 제공/전자지급결제대행              도매 및 소매업   \n",
       "\u001b[1;36m4\u001b[0m              \u001b[3;35mNone\u001b[0m                \u001b[3;35mNone\u001b[0m                   제조업   \n",
       "\u001b[33m...\u001b[0m             \u001b[33m...\u001b[0m                 \u001b[33m...\u001b[0m                   \u001b[33m...\u001b[0m   \n",
       "\u001b[1;36m2642338\u001b[0m        \u001b[3;35mNone\u001b[0m           고압호스/고압호스                   제조업   \n",
       "\u001b[1;36m2642339\u001b[0m    \u001b[1;36m20231231\u001b[0m                \u001b[3;35mNone\u001b[0m                   제조업   \n",
       "\u001b[1;36m2642340\u001b[0m        \u001b[3;35mNone\u001b[0m            의류/전자상거래                   제조업   \n",
       "\u001b[1;36m2642341\u001b[0m        \u001b[3;35mNone\u001b[0m                \u001b[3;35mNone\u001b[0m              도매 및 소매업   \n",
       "\u001b[1;36m2642342\u001b[0m        \u001b[3;35mNone\u001b[0m              축산물가공업              도매 및 소매업   \n",
       "\n",
       "        company_business_item  company_vat_message_code acct_code labels  \\\n",
       "\u001b[1;36m0\u001b[0m          그 외 자동차용 신품 부품 제조업                  standard     \u001b[1;36m15300\u001b[0m      \u001b[1;36m1\u001b[0m   \n",
       "\u001b[1;36m1\u001b[0m          기타 음ㆍ식료품 위주 종합 소매업                  standard     \u001b[1;36m14600\u001b[0m     \u001b[1;36m10\u001b[0m   \n",
       "\u001b[1;36m2\u001b[0m        산업용 그 외 비경화 고무제품 제조업                  standard     \u001b[1;36m81100\u001b[0m     \u001b[1;36m36\u001b[0m   \n",
       "\u001b[1;36m3\u001b[0m        빵류, 과자류, 당류, 초콜릿 도매업                  standard     \u001b[1;36m83100\u001b[0m     \u001b[1;36m24\u001b[0m   \n",
       "\u001b[1;36m4\u001b[0m            과자류 및 코코아 제품 제조업                  standard     \u001b[1;36m52400\u001b[0m     \u001b[1;36m64\u001b[0m   \n",
       "\u001b[33m...\u001b[0m                       \u001b[33m...\u001b[0m                       \u001b[33m...\u001b[0m       \u001b[33m...\u001b[0m    \u001b[33m...\u001b[0m   \n",
       "\u001b[1;36m2642338\u001b[0m    그 외 자동차용 신품 부품 제조업                  standard     \u001b[1;36m53000\u001b[0m     \u001b[1;36m26\u001b[0m   \n",
       "\u001b[1;36m2642339\u001b[0m     산업용 냉장 및 냉동장비 제조업                  standard     \u001b[1;36m52400\u001b[0m     \u001b[1;36m64\u001b[0m   \n",
       "\u001b[1;36m2642340\u001b[0m               컴퓨터 제조업                  standard     \u001b[1;36m83000\u001b[0m     \u001b[1;36m13\u001b[0m   \n",
       "\u001b[1;36m2642341\u001b[0m          운송장비용 가스 충전업                  standard     \u001b[1;36m14600\u001b[0m     \u001b[1;36m10\u001b[0m   \n",
       "\u001b[1;36m2642342\u001b[0m             전자상거래 소매업                  standard     \u001b[1;36m15300\u001b[0m      \u001b[1;36m1\u001b[0m   \n",
       "\n",
       "         split  \n",
       "\u001b[1;36m0\u001b[0m        train  \n",
       "\u001b[1;36m1\u001b[0m        train  \n",
       "\u001b[1;36m2\u001b[0m        train  \n",
       "\u001b[1;36m3\u001b[0m        train  \n",
       "\u001b[1;36m4\u001b[0m        train  \n",
       "\u001b[33m...\u001b[0m        \u001b[33m...\u001b[0m  \n",
       "\u001b[1;36m2642338\u001b[0m  train  \n",
       "\u001b[1;36m2642339\u001b[0m  train  \n",
       "\u001b[1;36m2642340\u001b[0m  train  \n",
       "\u001b[1;36m2642341\u001b[0m  train  \n",
       "\u001b[1;36m2642342\u001b[0m  train  \n",
       "\n",
       "\u001b[1m[\u001b[0m\u001b[1;36m2642343\u001b[0m rows x \u001b[1;36m28\u001b[0m columns\u001b[1m]\u001b[0m,\n",
       "    \u001b[32m'valid'\u001b[0m:                                 date  vat_type       party_name company_name  \\\n",
       "\u001b[1;36m0\u001b[0m      \u001b[1;36m1970\u001b[0m-\u001b[1;36m01\u001b[0m-\u001b[1;36m01\u001b[0m \u001b[1;92m00:00:00\u001b[0m.\u001b[1;36m020220808\u001b[0m        \u001b[1;36m70\u001b[0m         비씨카드 \u001b[1m(\u001b[0m주\u001b[1m)\u001b[0m      주식회사 영광   \n",
       "\u001b[1;36m1\u001b[0m      \u001b[1;36m1970\u001b[0m-\u001b[1;36m01\u001b[0m-\u001b[1;36m01\u001b[0m \u001b[1;92m00:00:00\u001b[0m.\u001b[1;36m020210603\u001b[0m        \u001b[1;36m51\u001b[0m     \u001b[1;35m에스케이브로드밴드\u001b[0m\u001b[1m(\u001b[0m주\u001b[1m)\u001b[0m      \u001b[1;35m상호운수\u001b[0m\u001b[1m(\u001b[0m자\u001b[1m)\u001b[0m   \n",
       "\u001b[1;36m2\u001b[0m      \u001b[1;36m1970\u001b[0m-\u001b[1;36m01\u001b[0m-\u001b[1;36m01\u001b[0m \u001b[1;92m00:00:00\u001b[0m.\u001b[1;36m020230831\u001b[0m        \u001b[1;36m51\u001b[0m         \u001b[1m(\u001b[0m주\u001b[1m)\u001b[0m대전지오팜   주식회사 메디영파마   \n",
       "\u001b[1;36m3\u001b[0m      \u001b[1;36m1970\u001b[0m-\u001b[1;36m01\u001b[0m-\u001b[1;36m01\u001b[0m \u001b[1;92m00:00:00\u001b[0m.\u001b[1;36m020241021\u001b[0m        \u001b[1;36m57\u001b[0m        한국정보통신（주）      \u001b[1;35m금마운수\u001b[0m\u001b[1m(\u001b[0m주\u001b[1m)\u001b[0m   \n",
       "\u001b[1;36m4\u001b[0m      \u001b[1;36m1970\u001b[0m-\u001b[1;36m01\u001b[0m-\u001b[1;36m01\u001b[0m \u001b[1;92m00:00:00\u001b[0m.\u001b[1;36m020220627\u001b[0m        \u001b[1;36m11\u001b[0m          로하스요양병원   \u001b[1;35m반도엔지니어링\u001b[0m\u001b[1m(\u001b[0m주\u001b[1m)\u001b[0m   \n",
       "\u001b[33m...\u001b[0m                              \u001b[33m...\u001b[0m       \u001b[33m...\u001b[0m              \u001b[33m...\u001b[0m          \u001b[33m...\u001b[0m   \n",
       "\u001b[1;36m330288\u001b[0m \u001b[1;36m1970\u001b[0m-\u001b[1;36m01\u001b[0m-\u001b[1;36m01\u001b[0m \u001b[1;92m00:00:00\u001b[0m.\u001b[1;36m020240528\u001b[0m        \u001b[1;36m51\u001b[0m              신성사    주식회사 영광토탈   \n",
       "\u001b[1;36m330289\u001b[0m \u001b[1;36m1970\u001b[0m-\u001b[1;36m01\u001b[0m-\u001b[1;36m01\u001b[0m \u001b[1;92m00:00:00\u001b[0m.\u001b[1;36m020240914\u001b[0m        \u001b[1;36m57\u001b[0m  나이스페이먼츠 주식회사 \u001b[1m(\u001b[0mN      \u001b[1;35m금마운수\u001b[0m\u001b[1m(\u001b[0m주\u001b[1m)\u001b[0m   \n",
       "\u001b[1;36m330290\u001b[0m \u001b[1;36m1970\u001b[0m-\u001b[1;36m01\u001b[0m-\u001b[1;36m01\u001b[0m \u001b[1;92m00:00:00\u001b[0m.\u001b[1;36m020220727\u001b[0m        \u001b[1;36m51\u001b[0m             월드기전  \u001b[1m(\u001b[0m주\u001b[1m)\u001b[0m베스트엔지니어링   \n",
       "\u001b[1;36m330291\u001b[0m \u001b[1;36m1970\u001b[0m-\u001b[1;36m01\u001b[0m-\u001b[1;36m01\u001b[0m \u001b[1;92m00:00:00\u001b[0m.\u001b[1;36m020190216\u001b[0m        \u001b[1;36m70\u001b[0m            대광주유소     \u001b[1m(\u001b[0m주\u001b[1m)\u001b[0m서진이엔지   \n",
       "\u001b[1;36m330292\u001b[0m \u001b[1;36m1970\u001b[0m-\u001b[1;36m01\u001b[0m-\u001b[1;36m01\u001b[0m \u001b[1;92m00:00:00\u001b[0m.\u001b[1;36m020220331\u001b[0m        \u001b[1;36m57\u001b[0m             드림툴텍     \u001b[1m(\u001b[0m주\u001b[1m)\u001b[0m금강파워텍   \n",
       "\n",
       "       company_vat_id                    item  supply_amount  vat_amount  \\\n",
       "\u001b[1;36m0\u001b[0m          \u001b[1;36m2128128366\u001b[0m                    \u001b[3;35mNone\u001b[0m           \u001b[1;36m6545\u001b[0m       \u001b[1;36m655.0\u001b[0m   \n",
       "\u001b[1;36m1\u001b[0m          \u001b[1;36m3128100353\u001b[0m   사용료 외 TLCS-\u001b[1;36m0300200144\u001b[0m           \u001b[1;36m6000\u001b[0m       \u001b[1;36m600.0\u001b[0m   \n",
       "\u001b[1;36m2\u001b[0m          \u001b[1;36m7218701280\u001b[0m  일반의약품-\u001b[1;35m정로환에프환\u001b[0m\u001b[1m(\u001b[0m병\u001b[1m)\u001b[0m  외 16종         \u001b[1;36m594366\u001b[0m     \u001b[1;36m59437.0\u001b[0m   \n",
       "\u001b[1;36m3\u001b[0m          \u001b[1;36m3128101594\u001b[0m                    \u001b[3;35mNone\u001b[0m          \u001b[1;36m12241\u001b[0m      \u001b[1;36m1224.0\u001b[0m   \n",
       "\u001b[1;36m4\u001b[0m          \u001b[1;36m3128147566\u001b[0m               냉난방기 유지보수         \u001b[1;36m620000\u001b[0m     \u001b[1;36m62000.0\u001b[0m   \n",
       "\u001b[33m...\u001b[0m               \u001b[33m...\u001b[0m                     \u001b[33m...\u001b[0m            \u001b[33m...\u001b[0m         \u001b[33m...\u001b[0m   \n",
       "\u001b[1;36m330288\u001b[0m     \u001b[1;36m2898102707\u001b[0m                      양초        \u001b[1;36m1878182\u001b[0m    \u001b[1;36m187818.0\u001b[0m   \n",
       "\u001b[1;36m330289\u001b[0m     \u001b[1;36m3128101594\u001b[0m                    \u001b[3;35mNone\u001b[0m           \u001b[1;36m5288\u001b[0m       \u001b[1;36m528.0\u001b[0m   \n",
       "\u001b[1;36m330290\u001b[0m     \u001b[1;36m1668102103\u001b[0m                   FUSE외         \u001b[1;36m272000\u001b[0m     \u001b[1;36m27200.0\u001b[0m   \n",
       "\u001b[1;36m330291\u001b[0m     \u001b[1;36m4388101125\u001b[0m                    \u001b[3;35mNone\u001b[0m          \u001b[1;36m63636\u001b[0m      \u001b[1;36m6364.0\u001b[0m   \n",
       "\u001b[1;36m330292\u001b[0m     \u001b[1;36m1298134168\u001b[0m                     물품대          \u001b[1;36m52600\u001b[0m      \u001b[1;36m5260.0\u001b[0m   \n",
       "\n",
       "        total_amount  in_multi  \u001b[33m...\u001b[0m            business_item vat_message_code  \\\n",
       "\u001b[1;36m0\u001b[0m             \u001b[1;36m7200.0\u001b[0m       NaN  \u001b[33m...\u001b[0m                     국내은행         standard   \n",
       "\u001b[1;36m1\u001b[0m             \u001b[1;36m6600.0\u001b[0m       \u001b[1;36m0.0\u001b[0m  \u001b[33m...\u001b[0m                전자상거래 소매업         standard   \n",
       "\u001b[1;36m2\u001b[0m           \u001b[1;36m653803.0\u001b[0m       \u001b[1;36m0.0\u001b[0m  \u001b[33m...\u001b[0m                  의약품 도매업         standard   \n",
       "\u001b[1;36m3\u001b[0m            \u001b[1;36m13465.0\u001b[0m       NaN  \u001b[33m...\u001b[0m      데이터베이스 및 온라인 정보 제공업         standard   \n",
       "\u001b[1;36m4\u001b[0m           \u001b[1;36m682000.0\u001b[0m       \u001b[1;36m0.0\u001b[0m  \u001b[33m...\u001b[0m                     요양병원           exempt   \n",
       "\u001b[33m...\u001b[0m              \u001b[33m...\u001b[0m       \u001b[33m...\u001b[0m  \u001b[33m...\u001b[0m                      \u001b[33m...\u001b[0m              \u001b[33m...\u001b[0m   \n",
       "\u001b[1;36m330288\u001b[0m     \u001b[1;36m2066000.0\u001b[0m       \u001b[1;36m0.0\u001b[0m  \u001b[33m...\u001b[0m      라이터, 연소물 및 흡연용품 제조업         standard   \n",
       "\u001b[1;36m330289\u001b[0m        \u001b[1;36m5816.0\u001b[0m       NaN  \u001b[33m...\u001b[0m  그 외 기타 분류 안된 사업 지원 서비스업         standard   \n",
       "\u001b[1;36m330290\u001b[0m      \u001b[1;36m299200.0\u001b[0m       NaN  \u001b[33m...\u001b[0m                     \u001b[3;35mNone\u001b[0m         standard   \n",
       "\u001b[1;36m330291\u001b[0m       \u001b[1;36m70000.0\u001b[0m       NaN  \u001b[33m...\u001b[0m            운송장비용 주유소 운영업         standard   \n",
       "\u001b[1;36m330292\u001b[0m       \u001b[1;36m57860.0\u001b[0m       NaN  \u001b[33m...\u001b[0m                   공구 소매업         standard   \n",
       "\n",
       "        close_date        product company_business_type company_business_item  \\\n",
       "\u001b[1;36m0\u001b[0m             \u001b[3;35mNone\u001b[0m     보험서비스/신용카드                   제조업           장식용 목제품 제조업   \n",
       "\u001b[1;36m1\u001b[0m             \u001b[3;35mNone\u001b[0m  소프트웨어 개발/전신전화              운수 및 창고업                택시 운송업   \n",
       "\u001b[1;36m2\u001b[0m             \u001b[3;35mNone\u001b[0m            의약품              도매 및 소매업               의약품 도매업   \n",
       "\u001b[1;36m3\u001b[0m             \u001b[3;35mNone\u001b[0m           부가통신              운수 및 창고업                택시 운송업   \n",
       "\u001b[1;36m4\u001b[0m         \u001b[1;36m20221227\u001b[0m           \u001b[3;35mNone\u001b[0m              도매 및 소매업         가전제품 및 부품 도매업   \n",
       "\u001b[33m...\u001b[0m            \u001b[33m...\u001b[0m            \u001b[33m...\u001b[0m                   \u001b[33m...\u001b[0m                   \u001b[33m...\u001b[0m   \n",
       "\u001b[1;36m330288\u001b[0m        \u001b[3;35mNone\u001b[0m           \u001b[3;35mNone\u001b[0m                   제조업           장식용 목제품 제조업   \n",
       "\u001b[1;36m330289\u001b[0m        \u001b[3;35mNone\u001b[0m      컴퓨터 프로그래밍              운수 및 창고업                택시 운송업   \n",
       "\u001b[1;36m330290\u001b[0m        \u001b[3;35mNone\u001b[0m           \u001b[3;35mNone\u001b[0m                   제조업        반도체 제조용 기계 제조업   \n",
       "\u001b[1;36m330291\u001b[0m        \u001b[3;35mNone\u001b[0m            유제품                   제조업      산업 처리공정 제어장비 제조업   \n",
       "\u001b[1;36m330292\u001b[0m        \u001b[3;35mNone\u001b[0m           \u001b[3;35mNone\u001b[0m                   제조업    배전반 및 전기 자동제어반 제조업   \n",
       "\n",
       "        company_vat_message_code acct_code labels  split  \n",
       "\u001b[1;36m0\u001b[0m                       standard     \u001b[1;36m81200\u001b[0m     \u001b[1;36m28\u001b[0m  valid  \n",
       "\u001b[1;36m1\u001b[0m                       standard     \u001b[1;36m81400\u001b[0m     \u001b[1;36m97\u001b[0m  valid  \n",
       "\u001b[1;36m2\u001b[0m                       standard     \u001b[1;36m14600\u001b[0m     \u001b[1;36m10\u001b[0m  valid  \n",
       "\u001b[1;36m3\u001b[0m                       standard     \u001b[1;36m78200\u001b[0m      \u001b[1;36m4\u001b[0m  valid  \n",
       "\u001b[1;36m4\u001b[0m                       standard     \u001b[1;36m40700\u001b[0m     \u001b[1;36m14\u001b[0m  valid  \n",
       "\u001b[33m...\u001b[0m                          \u001b[33m...\u001b[0m       \u001b[33m...\u001b[0m    \u001b[33m...\u001b[0m    \u001b[33m...\u001b[0m  \n",
       "\u001b[1;36m330288\u001b[0m                  standard     \u001b[1;36m14600\u001b[0m     \u001b[1;36m10\u001b[0m  valid  \n",
       "\u001b[1;36m330289\u001b[0m                  standard     \u001b[1;36m78200\u001b[0m      \u001b[1;36m4\u001b[0m  valid  \n",
       "\u001b[1;36m330290\u001b[0m                  standard     \u001b[1;36m15300\u001b[0m      \u001b[1;36m1\u001b[0m  valid  \n",
       "\u001b[1;36m330291\u001b[0m                  standard     \u001b[1;36m52200\u001b[0m     \u001b[1;36m70\u001b[0m  valid  \n",
       "\u001b[1;36m330292\u001b[0m                  standard     \u001b[1;36m53000\u001b[0m     \u001b[1;36m26\u001b[0m  valid  \n",
       "\n",
       "\u001b[1m[\u001b[0m\u001b[1;36m330293\u001b[0m rows x \u001b[1;36m28\u001b[0m columns\u001b[1m]\u001b[0m\n",
       "\u001b[1m}\u001b[0m"
      ]
     },
     "execution_count": 7,
     "metadata": {},
     "output_type": "execute_result"
    }
   ],
   "source": [
    "prepared"
   ]
  },
  {
   "cell_type": "code",
   "execution_count": 8,
   "metadata": {},
   "outputs": [
    {
     "data": {
      "text/html": [
       "<pre style=\"white-space:pre;overflow-x:auto;line-height:normal;font-family:Menlo,'DejaVu Sans Mono',consolas,'Courier New',monospace\"><span style=\"color: #800000; text-decoration-color: #800000\">╭─────────────────────────────── </span><span style=\"color: #800000; text-decoration-color: #800000; font-weight: bold\">Traceback </span><span style=\"color: #bf7f7f; text-decoration-color: #bf7f7f; font-weight: bold\">(most recent call last)</span><span style=\"color: #800000; text-decoration-color: #800000\"> ────────────────────────────────╮</span>\n",
       "<span style=\"color: #800000; text-decoration-color: #800000\">│</span> in &lt;module&gt;:1                                                                                    <span style=\"color: #800000; text-decoration-color: #800000\">│</span>\n",
       "<span style=\"color: #800000; text-decoration-color: #800000\">│</span>                                                                                                  <span style=\"color: #800000; text-decoration-color: #800000\">│</span>\n",
       "<span style=\"color: #800000; text-decoration-color: #800000\">│</span> <span style=\"color: #800000; text-decoration-color: #800000\">❱ </span>1 <span style=\"font-weight: bold; text-decoration: underline\">prepared.shape</span>                                                                               <span style=\"color: #800000; text-decoration-color: #800000\">│</span>\n",
       "<span style=\"color: #800000; text-decoration-color: #800000\">│</span>   <span style=\"color: #7f7f7f; text-decoration-color: #7f7f7f\">2 </span>                                                                                             <span style=\"color: #800000; text-decoration-color: #800000\">│</span>\n",
       "<span style=\"color: #800000; text-decoration-color: #800000\">╰──────────────────────────────────────────────────────────────────────────────────────────────────╯</span>\n",
       "<span style=\"color: #ff0000; text-decoration-color: #ff0000; font-weight: bold\">AttributeError: </span><span style=\"color: #008000; text-decoration-color: #008000\">'dict'</span> object has no attribute <span style=\"color: #008000; text-decoration-color: #008000\">'shape'</span>\n",
       "</pre>\n"
      ],
      "text/plain": [
       "\u001b[31m╭─\u001b[0m\u001b[31m──────────────────────────────\u001b[0m\u001b[31m \u001b[0m\u001b[1;31mTraceback \u001b[0m\u001b[1;2;31m(most recent call last)\u001b[0m\u001b[31m \u001b[0m\u001b[31m───────────────────────────────\u001b[0m\u001b[31m─╮\u001b[0m\n",
       "\u001b[31m│\u001b[0m in <module>:1                                                                                    \u001b[31m│\u001b[0m\n",
       "\u001b[31m│\u001b[0m                                                                                                  \u001b[31m│\u001b[0m\n",
       "\u001b[31m│\u001b[0m \u001b[31m❱ \u001b[0m1 \u001b[1;4mprepared.shape\u001b[0m                                                                               \u001b[31m│\u001b[0m\n",
       "\u001b[31m│\u001b[0m   \u001b[2m2 \u001b[0m                                                                                             \u001b[31m│\u001b[0m\n",
       "\u001b[31m╰──────────────────────────────────────────────────────────────────────────────────────────────────╯\u001b[0m\n",
       "\u001b[1;91mAttributeError: \u001b[0m\u001b[32m'dict'\u001b[0m object has no attribute \u001b[32m'shape'\u001b[0m\n"
      ]
     },
     "metadata": {},
     "output_type": "display_data"
    }
   ],
   "source": [
    "prepared.shape"
   ]
  },
  {
   "cell_type": "code",
   "execution_count": 9,
   "metadata": {},
   "outputs": [
    {
     "data": {
      "text/html": [
       "<pre style=\"white-space:pre;overflow-x:auto;line-height:normal;font-family:Menlo,'DejaVu Sans Mono',consolas,'Courier New',monospace\"></pre>\n"
      ],
      "text/plain": []
     },
     "metadata": {},
     "output_type": "display_data"
    },
    {
     "data": {
      "text/plain": [
       "\u001b[1;35mdict_keys\u001b[0m\u001b[1m(\u001b[0m\u001b[1m[\u001b[0m\u001b[32m'test'\u001b[0m, \u001b[32m'train'\u001b[0m, \u001b[32m'valid'\u001b[0m\u001b[1m]\u001b[0m\u001b[1m)\u001b[0m"
      ]
     },
     "execution_count": 9,
     "metadata": {},
     "output_type": "execute_result"
    }
   ],
   "source": [
    "prepared.keys()"
   ]
  },
  {
   "cell_type": "code",
   "execution_count": 10,
   "metadata": {},
   "outputs": [
    {
     "data": {
      "text/html": [
       "<pre style=\"white-space:pre;overflow-x:auto;line-height:normal;font-family:Menlo,'DejaVu Sans Mono',consolas,'Courier New',monospace\"><span style=\"color: #800000; text-decoration-color: #800000\">╭─────────────────────────────── </span><span style=\"color: #800000; text-decoration-color: #800000; font-weight: bold\">Traceback </span><span style=\"color: #bf7f7f; text-decoration-color: #bf7f7f; font-weight: bold\">(most recent call last)</span><span style=\"color: #800000; text-decoration-color: #800000\"> ────────────────────────────────╮</span>\n",
       "<span style=\"color: #800000; text-decoration-color: #800000\">│</span> in &lt;module&gt;:1                                                                                    <span style=\"color: #800000; text-decoration-color: #800000\">│</span>\n",
       "<span style=\"color: #800000; text-decoration-color: #800000\">│</span>                                                                                                  <span style=\"color: #800000; text-decoration-color: #800000\">│</span>\n",
       "<span style=\"color: #800000; text-decoration-color: #800000\">│</span> <span style=\"color: #800000; text-decoration-color: #800000\">❱ </span>1 <span style=\"font-weight: bold; text-decoration: underline\">prepared.head</span>()                                                                              <span style=\"color: #800000; text-decoration-color: #800000\">│</span>\n",
       "<span style=\"color: #800000; text-decoration-color: #800000\">│</span>   <span style=\"color: #7f7f7f; text-decoration-color: #7f7f7f\">2 </span>                                                                                             <span style=\"color: #800000; text-decoration-color: #800000\">│</span>\n",
       "<span style=\"color: #800000; text-decoration-color: #800000\">╰──────────────────────────────────────────────────────────────────────────────────────────────────╯</span>\n",
       "<span style=\"color: #ff0000; text-decoration-color: #ff0000; font-weight: bold\">AttributeError: </span><span style=\"color: #008000; text-decoration-color: #008000\">'dict'</span> object has no attribute <span style=\"color: #008000; text-decoration-color: #008000\">'head'</span>\n",
       "</pre>\n"
      ],
      "text/plain": [
       "\u001b[31m╭─\u001b[0m\u001b[31m──────────────────────────────\u001b[0m\u001b[31m \u001b[0m\u001b[1;31mTraceback \u001b[0m\u001b[1;2;31m(most recent call last)\u001b[0m\u001b[31m \u001b[0m\u001b[31m───────────────────────────────\u001b[0m\u001b[31m─╮\u001b[0m\n",
       "\u001b[31m│\u001b[0m in <module>:1                                                                                    \u001b[31m│\u001b[0m\n",
       "\u001b[31m│\u001b[0m                                                                                                  \u001b[31m│\u001b[0m\n",
       "\u001b[31m│\u001b[0m \u001b[31m❱ \u001b[0m1 \u001b[1;4mprepared.head\u001b[0m()                                                                              \u001b[31m│\u001b[0m\n",
       "\u001b[31m│\u001b[0m   \u001b[2m2 \u001b[0m                                                                                             \u001b[31m│\u001b[0m\n",
       "\u001b[31m╰──────────────────────────────────────────────────────────────────────────────────────────────────╯\u001b[0m\n",
       "\u001b[1;91mAttributeError: \u001b[0m\u001b[32m'dict'\u001b[0m object has no attribute \u001b[32m'head'\u001b[0m\n"
      ]
     },
     "metadata": {},
     "output_type": "display_data"
    }
   ],
   "source": [
    "prepared.head()"
   ]
  },
  {
   "cell_type": "code",
   "execution_count": 11,
   "metadata": {},
   "outputs": [
    {
     "name": "stdout",
     "output_type": "stream",
     "text": [
      "- test: DataFrame\n",
      "- train: DataFrame\n",
      "- valid: DataFrame\n"
     ]
    }
   ],
   "source": [
    "def print_dict_structure(mapping, indent=0):\n",
    "    prefix = \" \" * indent\n",
    "    if isinstance(mapping, dict):\n",
    "        for key, value in mapping.items():\n",
    "            print(f\"{prefix}- {key}: {type(value).__name__}\")\n",
    "            print_dict_structure(value, indent + 2)\n",
    "    else:\n",
    "        return  # dict가 아닌 값에 도달하면 종료\n",
    "\n",
    "print_dict_structure(prepared)\n"
   ]
  },
  {
   "cell_type": "code",
   "execution_count": 12,
   "metadata": {},
   "outputs": [
    {
     "data": {
      "text/html": [
       "<pre style=\"white-space:pre;overflow-x:auto;line-height:normal;font-family:Menlo,'DejaVu Sans Mono',consolas,'Courier New',monospace\"></pre>\n"
      ],
      "text/plain": []
     },
     "metadata": {},
     "output_type": "display_data"
    },
    {
     "data": {
      "text/html": [
       "<div>\n",
       "<style scoped>\n",
       "    .dataframe tbody tr th:only-of-type {\n",
       "        vertical-align: middle;\n",
       "    }\n",
       "\n",
       "    .dataframe tbody tr th {\n",
       "        vertical-align: top;\n",
       "    }\n",
       "\n",
       "    .dataframe thead th {\n",
       "        text-align: right;\n",
       "    }\n",
       "</style>\n",
       "<table border=\"1\" class=\"dataframe\">\n",
       "  <thead>\n",
       "    <tr style=\"text-align: right;\">\n",
       "      <th></th>\n",
       "      <th>date</th>\n",
       "      <th>vat_type</th>\n",
       "      <th>party_name</th>\n",
       "      <th>company_name</th>\n",
       "      <th>company_vat_id</th>\n",
       "      <th>item</th>\n",
       "      <th>supply_amount</th>\n",
       "      <th>vat_amount</th>\n",
       "      <th>total_amount</th>\n",
       "      <th>in_multi</th>\n",
       "      <th>...</th>\n",
       "      <th>business_item</th>\n",
       "      <th>vat_message_code</th>\n",
       "      <th>close_date</th>\n",
       "      <th>product</th>\n",
       "      <th>company_business_type</th>\n",
       "      <th>company_business_item</th>\n",
       "      <th>company_vat_message_code</th>\n",
       "      <th>acct_code</th>\n",
       "      <th>labels</th>\n",
       "      <th>split</th>\n",
       "    </tr>\n",
       "  </thead>\n",
       "  <tbody>\n",
       "    <tr>\n",
       "      <th>count</th>\n",
       "      <td>2642343</td>\n",
       "      <td>2.642343e+06</td>\n",
       "      <td>2641545</td>\n",
       "      <td>2642343</td>\n",
       "      <td>2642343</td>\n",
       "      <td>1204781</td>\n",
       "      <td>2.642343e+06</td>\n",
       "      <td>2.583423e+06</td>\n",
       "      <td>2.642342e+06</td>\n",
       "      <td>842277.000000</td>\n",
       "      <td>...</td>\n",
       "      <td>2028263</td>\n",
       "      <td>2642343</td>\n",
       "      <td>317276</td>\n",
       "      <td>1124071</td>\n",
       "      <td>2554758</td>\n",
       "      <td>2576820</td>\n",
       "      <td>2642343</td>\n",
       "      <td>2.642343e+06</td>\n",
       "      <td>2.642343e+06</td>\n",
       "      <td>2642343</td>\n",
       "    </tr>\n",
       "    <tr>\n",
       "      <th>unique</th>\n",
       "      <td>NaN</td>\n",
       "      <td>NaN</td>\n",
       "      <td>226732</td>\n",
       "      <td>380</td>\n",
       "      <td>371</td>\n",
       "      <td>306663</td>\n",
       "      <td>NaN</td>\n",
       "      <td>NaN</td>\n",
       "      <td>NaN</td>\n",
       "      <td>NaN</td>\n",
       "      <td>...</td>\n",
       "      <td>1126</td>\n",
       "      <td>8</td>\n",
       "      <td>2318</td>\n",
       "      <td>12519</td>\n",
       "      <td>14</td>\n",
       "      <td>170</td>\n",
       "      <td>3</td>\n",
       "      <td>NaN</td>\n",
       "      <td>NaN</td>\n",
       "      <td>1</td>\n",
       "    </tr>\n",
       "    <tr>\n",
       "      <th>top</th>\n",
       "      <td>NaN</td>\n",
       "      <td>NaN</td>\n",
       "      <td>비씨카드 (주)</td>\n",
       "      <td>주식회사 장원</td>\n",
       "      <td>3128132710</td>\n",
       "      <td>유지보수비</td>\n",
       "      <td>NaN</td>\n",
       "      <td>NaN</td>\n",
       "      <td>NaN</td>\n",
       "      <td>NaN</td>\n",
       "      <td>...</td>\n",
       "      <td>한식 일반 음식점업</td>\n",
       "      <td>standard</td>\n",
       "      <td>20241231</td>\n",
       "      <td>보험서비스/신용카드</td>\n",
       "      <td>제조업</td>\n",
       "      <td>택시 운송업</td>\n",
       "      <td>standard</td>\n",
       "      <td>NaN</td>\n",
       "      <td>NaN</td>\n",
       "      <td>train</td>\n",
       "    </tr>\n",
       "    <tr>\n",
       "      <th>freq</th>\n",
       "      <td>NaN</td>\n",
       "      <td>NaN</td>\n",
       "      <td>64945</td>\n",
       "      <td>73945</td>\n",
       "      <td>73945</td>\n",
       "      <td>65921</td>\n",
       "      <td>NaN</td>\n",
       "      <td>NaN</td>\n",
       "      <td>NaN</td>\n",
       "      <td>NaN</td>\n",
       "      <td>...</td>\n",
       "      <td>174225</td>\n",
       "      <td>2464637</td>\n",
       "      <td>9054</td>\n",
       "      <td>76242</td>\n",
       "      <td>1271832</td>\n",
       "      <td>140703</td>\n",
       "      <td>2620520</td>\n",
       "      <td>NaN</td>\n",
       "      <td>NaN</td>\n",
       "      <td>2642343</td>\n",
       "    </tr>\n",
       "    <tr>\n",
       "      <th>mean</th>\n",
       "      <td>1970-01-01 00:00:00.020220029</td>\n",
       "      <td>5.038250e+01</td>\n",
       "      <td>NaN</td>\n",
       "      <td>NaN</td>\n",
       "      <td>NaN</td>\n",
       "      <td>NaN</td>\n",
       "      <td>2.535555e+06</td>\n",
       "      <td>2.282584e+05</td>\n",
       "      <td>2.758724e+06</td>\n",
       "      <td>0.108092</td>\n",
       "      <td>...</td>\n",
       "      <td>NaN</td>\n",
       "      <td>NaN</td>\n",
       "      <td>NaN</td>\n",
       "      <td>NaN</td>\n",
       "      <td>NaN</td>\n",
       "      <td>NaN</td>\n",
       "      <td>NaN</td>\n",
       "      <td>6.355957e+04</td>\n",
       "      <td>3.927025e+01</td>\n",
       "      <td>NaN</td>\n",
       "    </tr>\n",
       "    <tr>\n",
       "      <th>min</th>\n",
       "      <td>1970-01-01 00:00:00.020190101</td>\n",
       "      <td>1.100000e+01</td>\n",
       "      <td>NaN</td>\n",
       "      <td>NaN</td>\n",
       "      <td>NaN</td>\n",
       "      <td>NaN</td>\n",
       "      <td>-8.830405e+12</td>\n",
       "      <td>-1.000000e+10</td>\n",
       "      <td>-8.830405e+12</td>\n",
       "      <td>0.000000</td>\n",
       "      <td>...</td>\n",
       "      <td>NaN</td>\n",
       "      <td>NaN</td>\n",
       "      <td>NaN</td>\n",
       "      <td>NaN</td>\n",
       "      <td>NaN</td>\n",
       "      <td>NaN</td>\n",
       "      <td>NaN</td>\n",
       "      <td>1.010000e+04</td>\n",
       "      <td>0.000000e+00</td>\n",
       "      <td>NaN</td>\n",
       "    </tr>\n",
       "    <tr>\n",
       "      <th>25%</th>\n",
       "      <td>1970-01-01 00:00:00.020210204</td>\n",
       "      <td>5.100000e+01</td>\n",
       "      <td>NaN</td>\n",
       "      <td>NaN</td>\n",
       "      <td>NaN</td>\n",
       "      <td>NaN</td>\n",
       "      <td>1.118100e+04</td>\n",
       "      <td>1.090000e+03</td>\n",
       "      <td>1.225500e+04</td>\n",
       "      <td>0.000000</td>\n",
       "      <td>...</td>\n",
       "      <td>NaN</td>\n",
       "      <td>NaN</td>\n",
       "      <td>NaN</td>\n",
       "      <td>NaN</td>\n",
       "      <td>NaN</td>\n",
       "      <td>NaN</td>\n",
       "      <td>NaN</td>\n",
       "      <td>4.230000e+04</td>\n",
       "      <td>1.300000e+01</td>\n",
       "      <td>NaN</td>\n",
       "    </tr>\n",
       "    <tr>\n",
       "      <th>50%</th>\n",
       "      <td>1970-01-01 00:00:00.020220901</td>\n",
       "      <td>5.700000e+01</td>\n",
       "      <td>NaN</td>\n",
       "      <td>NaN</td>\n",
       "      <td>NaN</td>\n",
       "      <td>NaN</td>\n",
       "      <td>4.545500e+04</td>\n",
       "      <td>4.545000e+03</td>\n",
       "      <td>5.000000e+04</td>\n",
       "      <td>0.000000</td>\n",
       "      <td>...</td>\n",
       "      <td>NaN</td>\n",
       "      <td>NaN</td>\n",
       "      <td>NaN</td>\n",
       "      <td>NaN</td>\n",
       "      <td>NaN</td>\n",
       "      <td>NaN</td>\n",
       "      <td>NaN</td>\n",
       "      <td>8.110000e+04</td>\n",
       "      <td>2.800000e+01</td>\n",
       "      <td>NaN</td>\n",
       "    </tr>\n",
       "    <tr>\n",
       "      <th>75%</th>\n",
       "      <td>1970-01-01 00:00:00.020231130</td>\n",
       "      <td>5.700000e+01</td>\n",
       "      <td>NaN</td>\n",
       "      <td>NaN</td>\n",
       "      <td>NaN</td>\n",
       "      <td>NaN</td>\n",
       "      <td>2.561275e+05</td>\n",
       "      <td>2.320000e+04</td>\n",
       "      <td>2.805000e+05</td>\n",
       "      <td>0.000000</td>\n",
       "      <td>...</td>\n",
       "      <td>NaN</td>\n",
       "      <td>NaN</td>\n",
       "      <td>NaN</td>\n",
       "      <td>NaN</td>\n",
       "      <td>NaN</td>\n",
       "      <td>NaN</td>\n",
       "      <td>NaN</td>\n",
       "      <td>8.220000e+04</td>\n",
       "      <td>6.200000e+01</td>\n",
       "      <td>NaN</td>\n",
       "    </tr>\n",
       "    <tr>\n",
       "      <th>max</th>\n",
       "      <td>1970-01-01 00:00:00.020250330</td>\n",
       "      <td>7.000000e+01</td>\n",
       "      <td>NaN</td>\n",
       "      <td>NaN</td>\n",
       "      <td>NaN</td>\n",
       "      <td>NaN</td>\n",
       "      <td>8.830405e+12</td>\n",
       "      <td>1.000000e+10</td>\n",
       "      <td>8.830405e+12</td>\n",
       "      <td>1.000000</td>\n",
       "      <td>...</td>\n",
       "      <td>NaN</td>\n",
       "      <td>NaN</td>\n",
       "      <td>NaN</td>\n",
       "      <td>NaN</td>\n",
       "      <td>NaN</td>\n",
       "      <td>NaN</td>\n",
       "      <td>NaN</td>\n",
       "      <td>9.800000e+04</td>\n",
       "      <td>2.590000e+02</td>\n",
       "      <td>NaN</td>\n",
       "    </tr>\n",
       "    <tr>\n",
       "      <th>std</th>\n",
       "      <td>NaN</td>\n",
       "      <td>1.915165e+01</td>\n",
       "      <td>NaN</td>\n",
       "      <td>NaN</td>\n",
       "      <td>NaN</td>\n",
       "      <td>NaN</td>\n",
       "      <td>7.683025e+09</td>\n",
       "      <td>9.170834e+06</td>\n",
       "      <td>7.683139e+09</td>\n",
       "      <td>0.310496</td>\n",
       "      <td>...</td>\n",
       "      <td>NaN</td>\n",
       "      <td>NaN</td>\n",
       "      <td>NaN</td>\n",
       "      <td>NaN</td>\n",
       "      <td>NaN</td>\n",
       "      <td>NaN</td>\n",
       "      <td>NaN</td>\n",
       "      <td>2.210645e+04</td>\n",
       "      <td>3.449614e+01</td>\n",
       "      <td>NaN</td>\n",
       "    </tr>\n",
       "  </tbody>\n",
       "</table>\n",
       "<p>11 rows × 28 columns</p>\n",
       "</div>"
      ],
      "text/plain": [
       "\n",
       "                                 date      vat_type party_name company_name  \\\n",
       "count                         \u001b[1;36m2642343\u001b[0m  \u001b[1;36m2.642343e+06\u001b[0m    \u001b[1;36m2641545\u001b[0m      \u001b[1;36m2642343\u001b[0m   \n",
       "unique                            NaN           NaN     \u001b[1;36m226732\u001b[0m          \u001b[1;36m380\u001b[0m   \n",
       "top                               NaN           NaN   비씨카드 \u001b[1m(\u001b[0m주\u001b[1m)\u001b[0m      주식회사 장원   \n",
       "freq                              NaN           NaN      \u001b[1;36m64945\u001b[0m        \u001b[1;36m73945\u001b[0m   \n",
       "mean    \u001b[1;36m1970\u001b[0m-\u001b[1;36m01\u001b[0m-\u001b[1;36m01\u001b[0m \u001b[1;92m00:00:00\u001b[0m.\u001b[1;36m020220029\u001b[0m  \u001b[1;36m5.038250e+01\u001b[0m        NaN          NaN   \n",
       "min     \u001b[1;36m1970\u001b[0m-\u001b[1;36m01\u001b[0m-\u001b[1;36m01\u001b[0m \u001b[1;92m00:00:00\u001b[0m.\u001b[1;36m020190101\u001b[0m  \u001b[1;36m1.100000e+01\u001b[0m        NaN          NaN   \n",
       "\u001b[1;36m25\u001b[0m%     \u001b[1;36m1970\u001b[0m-\u001b[1;36m01\u001b[0m-\u001b[1;36m01\u001b[0m \u001b[1;92m00:00:00\u001b[0m.\u001b[1;36m020210204\u001b[0m  \u001b[1;36m5.100000e+01\u001b[0m        NaN          NaN   \n",
       "\u001b[1;36m50\u001b[0m%     \u001b[1;36m1970\u001b[0m-\u001b[1;36m01\u001b[0m-\u001b[1;36m01\u001b[0m \u001b[1;92m00:00:00\u001b[0m.\u001b[1;36m020220901\u001b[0m  \u001b[1;36m5.700000e+01\u001b[0m        NaN          NaN   \n",
       "\u001b[1;36m75\u001b[0m%     \u001b[1;36m1970\u001b[0m-\u001b[1;36m01\u001b[0m-\u001b[1;36m01\u001b[0m \u001b[1;92m00:00:00\u001b[0m.\u001b[1;36m020231130\u001b[0m  \u001b[1;36m5.700000e+01\u001b[0m        NaN          NaN   \n",
       "max     \u001b[1;36m1970\u001b[0m-\u001b[1;36m01\u001b[0m-\u001b[1;36m01\u001b[0m \u001b[1;92m00:00:00\u001b[0m.\u001b[1;36m020250330\u001b[0m  \u001b[1;36m7.000000e+01\u001b[0m        NaN          NaN   \n",
       "std                               NaN  \u001b[1;36m1.915165e+01\u001b[0m        NaN          NaN   \n",
       "\n",
       "       company_vat_id     item  supply_amount    vat_amount  total_amount  \\\n",
       "count         \u001b[1;36m2642343\u001b[0m  \u001b[1;36m1204781\u001b[0m   \u001b[1;36m2.642343e+06\u001b[0m  \u001b[1;36m2.583423e+06\u001b[0m  \u001b[1;36m2.642342e+06\u001b[0m   \n",
       "unique            \u001b[1;36m371\u001b[0m   \u001b[1;36m306663\u001b[0m            NaN           NaN           NaN   \n",
       "top        \u001b[1;36m3128132710\u001b[0m    유지보수비            NaN           NaN           NaN   \n",
       "freq            \u001b[1;36m73945\u001b[0m    \u001b[1;36m65921\u001b[0m            NaN           NaN           NaN   \n",
       "mean              NaN      NaN   \u001b[1;36m2.535555e+06\u001b[0m  \u001b[1;36m2.282584e+05\u001b[0m  \u001b[1;36m2.758724e+06\u001b[0m   \n",
       "min               NaN      NaN  \u001b[1;36m-8.830405e+12\u001b[0m \u001b[1;36m-1.000000e+10\u001b[0m \u001b[1;36m-8.830405e+12\u001b[0m   \n",
       "\u001b[1;36m25\u001b[0m%               NaN      NaN   \u001b[1;36m1.118100e+04\u001b[0m  \u001b[1;36m1.090000e+03\u001b[0m  \u001b[1;36m1.225500e+04\u001b[0m   \n",
       "\u001b[1;36m50\u001b[0m%               NaN      NaN   \u001b[1;36m4.545500e+04\u001b[0m  \u001b[1;36m4.545000e+03\u001b[0m  \u001b[1;36m5.000000e+04\u001b[0m   \n",
       "\u001b[1;36m75\u001b[0m%               NaN      NaN   \u001b[1;36m2.561275e+05\u001b[0m  \u001b[1;36m2.320000e+04\u001b[0m  \u001b[1;36m2.805000e+05\u001b[0m   \n",
       "max               NaN      NaN   \u001b[1;36m8.830405e+12\u001b[0m  \u001b[1;36m1.000000e+10\u001b[0m  \u001b[1;36m8.830405e+12\u001b[0m   \n",
       "std               NaN      NaN   \u001b[1;36m7.683025e+09\u001b[0m  \u001b[1;36m9.170834e+06\u001b[0m  \u001b[1;36m7.683139e+09\u001b[0m   \n",
       "\n",
       "             in_multi  \u001b[33m...\u001b[0m  business_item vat_message_code  close_date  \\\n",
       "count   \u001b[1;36m842277.000000\u001b[0m  \u001b[33m...\u001b[0m        \u001b[1;36m2028263\u001b[0m          \u001b[1;36m2642343\u001b[0m      \u001b[1;36m317276\u001b[0m   \n",
       "unique            NaN  \u001b[33m...\u001b[0m           \u001b[1;36m1126\u001b[0m                \u001b[1;36m8\u001b[0m        \u001b[1;36m2318\u001b[0m   \n",
       "top               NaN  \u001b[33m...\u001b[0m     한식 일반 음식점업         standard    \u001b[1;36m20241231\u001b[0m   \n",
       "freq              NaN  \u001b[33m...\u001b[0m         \u001b[1;36m174225\u001b[0m          \u001b[1;36m2464637\u001b[0m        \u001b[1;36m9054\u001b[0m   \n",
       "mean         \u001b[1;36m0.108092\u001b[0m  \u001b[33m...\u001b[0m            NaN              NaN         NaN   \n",
       "min          \u001b[1;36m0.000000\u001b[0m  \u001b[33m...\u001b[0m            NaN              NaN         NaN   \n",
       "\u001b[1;36m25\u001b[0m%          \u001b[1;36m0.000000\u001b[0m  \u001b[33m...\u001b[0m            NaN              NaN         NaN   \n",
       "\u001b[1;36m50\u001b[0m%          \u001b[1;36m0.000000\u001b[0m  \u001b[33m...\u001b[0m            NaN              NaN         NaN   \n",
       "\u001b[1;36m75\u001b[0m%          \u001b[1;36m0.000000\u001b[0m  \u001b[33m...\u001b[0m            NaN              NaN         NaN   \n",
       "max          \u001b[1;36m1.000000\u001b[0m  \u001b[33m...\u001b[0m            NaN              NaN         NaN   \n",
       "std          \u001b[1;36m0.310496\u001b[0m  \u001b[33m...\u001b[0m            NaN              NaN         NaN   \n",
       "\n",
       "           product company_business_type company_business_item  \\\n",
       "count      \u001b[1;36m1124071\u001b[0m               \u001b[1;36m2554758\u001b[0m               \u001b[1;36m2576820\u001b[0m   \n",
       "unique       \u001b[1;36m12519\u001b[0m                    \u001b[1;36m14\u001b[0m                   \u001b[1;36m170\u001b[0m   \n",
       "top     보험서비스/신용카드                   제조업                택시 운송업   \n",
       "freq         \u001b[1;36m76242\u001b[0m               \u001b[1;36m1271832\u001b[0m                \u001b[1;36m140703\u001b[0m   \n",
       "mean           NaN                   NaN                   NaN   \n",
       "min            NaN                   NaN                   NaN   \n",
       "\u001b[1;36m25\u001b[0m%            NaN                   NaN                   NaN   \n",
       "\u001b[1;36m50\u001b[0m%            NaN                   NaN                   NaN   \n",
       "\u001b[1;36m75\u001b[0m%            NaN                   NaN                   NaN   \n",
       "max            NaN                   NaN                   NaN   \n",
       "std            NaN                   NaN                   NaN   \n",
       "\n",
       "        company_vat_message_code     acct_code        labels    split  \n",
       "count                    \u001b[1;36m2642343\u001b[0m  \u001b[1;36m2.642343e+06\u001b[0m  \u001b[1;36m2.642343e+06\u001b[0m  \u001b[1;36m2642343\u001b[0m  \n",
       "unique                         \u001b[1;36m3\u001b[0m           NaN           NaN        \u001b[1;36m1\u001b[0m  \n",
       "top                     standard           NaN           NaN    train  \n",
       "freq                     \u001b[1;36m2620520\u001b[0m           NaN           NaN  \u001b[1;36m2642343\u001b[0m  \n",
       "mean                         NaN  \u001b[1;36m6.355957e+04\u001b[0m  \u001b[1;36m3.927025e+01\u001b[0m      NaN  \n",
       "min                          NaN  \u001b[1;36m1.010000e+04\u001b[0m  \u001b[1;36m0.000000e+00\u001b[0m      NaN  \n",
       "\u001b[1;36m25\u001b[0m%                          NaN  \u001b[1;36m4.230000e+04\u001b[0m  \u001b[1;36m1.300000e+01\u001b[0m      NaN  \n",
       "\u001b[1;36m50\u001b[0m%                          NaN  \u001b[1;36m8.110000e+04\u001b[0m  \u001b[1;36m2.800000e+01\u001b[0m      NaN  \n",
       "\u001b[1;36m75\u001b[0m%                          NaN  \u001b[1;36m8.220000e+04\u001b[0m  \u001b[1;36m6.200000e+01\u001b[0m      NaN  \n",
       "max                          NaN  \u001b[1;36m9.800000e+04\u001b[0m  \u001b[1;36m2.590000e+02\u001b[0m      NaN  \n",
       "std                          NaN  \u001b[1;36m2.210645e+04\u001b[0m  \u001b[1;36m3.449614e+01\u001b[0m      NaN  \n",
       "\n",
       "\u001b[1m[\u001b[0m\u001b[1;36m11\u001b[0m rows x \u001b[1;36m28\u001b[0m columns\u001b[1m]\u001b[0m"
      ]
     },
     "execution_count": 12,
     "metadata": {},
     "output_type": "execute_result"
    }
   ],
   "source": [
    "prepared[\"train\"].describe(include=\"all\")"
   ]
  },
  {
   "cell_type": "code",
   "execution_count": null,
   "metadata": {},
   "outputs": [],
   "source": []
  }
 ],
 "metadata": {
  "kernelspec": {
   "display_name": "Python 3 (ipykernel)",
   "language": "python",
   "name": "python3"
  },
  "language_info": {
   "codemirror_mode": {
    "name": "ipython",
    "version": 3
   },
   "file_extension": ".py",
   "mimetype": "text/x-python",
   "name": "python",
   "nbconvert_exporter": "python",
   "pygments_lexer": "ipython3",
   "version": "3.12.11"
  }
 },
 "nbformat": 4,
 "nbformat_minor": 4
}
